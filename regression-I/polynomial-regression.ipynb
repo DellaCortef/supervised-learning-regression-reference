{
 "cells": [
  {
   "cell_type": "markdown",
   "id": "100f95bf",
   "metadata": {},
   "source": [
    "# Polynomial Regression\n",
    "\n",
    "Initially we will generate non-linear data based on a simple quadratic equation:\n",
    "\n",
    "$$y = ax^{2} + bx + c$$\n",
    "\n",
    "Additionally, we added some noise."
   ]
  },
  {
   "cell_type": "code",
   "execution_count": null,
   "id": "520e715f",
   "metadata": {},
   "outputs": [],
   "source": []
  }
 ],
 "metadata": {
  "kernelspec": {
   "display_name": "Python 3 (ipykernel)",
   "language": "python",
   "name": "python3"
  },
  "language_info": {
   "codemirror_mode": {
    "name": "ipython",
    "version": 3
   },
   "file_extension": ".py",
   "mimetype": "text/x-python",
   "name": "python",
   "nbconvert_exporter": "python",
   "pygments_lexer": "ipython3",
   "version": "3.9.13"
  }
 },
 "nbformat": 4,
 "nbformat_minor": 5
}
