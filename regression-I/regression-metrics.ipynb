{
 "cells": [
  {
   "cell_type": "markdown",
   "id": "1eb7614c",
   "metadata": {},
   "source": [
    "# Regression\n",
    "\n",
    "In regression, we want to predict a continuous value, such as the price of a property, the height of a person, the revenue of a game in the first month of release, etc.\n",
    "\n",
    "Basically all the techniques studied so far, such as cross-validation, hyperparameter optimization and feature selection, also work for regression problems. \n",
    "\n",
    "The big difference between regression and classification is the type of data we want to predict and the metrics used to evaluate performance.\n",
    "\n",
    "We will use the house price prediction dataset available on kaggle ([House Prices: Advanced Regression Techniques](https://www.kaggle.com/c/house-prices-advanced-regression-techniques/))."
   ]
  },
  {
   "cell_type": "code",
   "execution_count": null,
   "id": "55231435",
   "metadata": {},
   "outputs": [],
   "source": []
  }
 ],
 "metadata": {
  "kernelspec": {
   "display_name": "Python 3 (ipykernel)",
   "language": "python",
   "name": "python3"
  },
  "language_info": {
   "codemirror_mode": {
    "name": "ipython",
    "version": 3
   },
   "file_extension": ".py",
   "mimetype": "text/x-python",
   "name": "python",
   "nbconvert_exporter": "python",
   "pygments_lexer": "ipython3",
   "version": "3.9.13"
  }
 },
 "nbformat": 4,
 "nbformat_minor": 5
}
