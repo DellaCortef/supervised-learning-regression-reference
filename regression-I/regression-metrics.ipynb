{
 "cells": [
  {
   "cell_type": "markdown",
   "id": "1eb7614c",
   "metadata": {},
   "source": [
    "# Regression\n",
    "\n",
    "In regression, we want to predict a continuous value, such as the price of a property, the height of a person, the revenue of a game in the first month of release, etc.\n",
    "\n",
    "Basically all the techniques studied so far, such as cross-validation, hyperparameter optimization and feature selection, also work for regression problems. \n",
    "\n",
    "The big difference between regression and classification is the type of data we want to predict and the metrics used to evaluate performance.\n",
    "\n",
    "We will use the house price prediction dataset available on kaggle ([House Prices: Advanced Regression Techniques](https://www.kaggle.com/c/house-prices-advanced-regression-techniques/))."
   ]
  },
  {
   "cell_type": "code",
   "execution_count": 26,
   "id": "55231435",
   "metadata": {},
   "outputs": [],
   "source": [
    "# Import standard libs\n",
    "import numpy as np\n",
    "import pandas as pd\n",
    "\n",
    "# Dataviz libs\n",
    "import matplotlib.pyplot as plt\n",
    "import seaborn as sns\n",
    "\n",
    "# odel selection libs\n",
    "from sklearn.model_selection import train_test_split\n",
    "\n",
    "# Feature engine libs\n",
    "from feature_engine.imputation import ArbitraryNumberImputer\n",
    "from feature_engine.wrappers import SklearnTransformerWrapper\n",
    "\n",
    "# Pipeline libs\n",
    "from sklearn.pipeline import Pipeline\n",
    "from sklearn.preprocessing import StandardScaler\n",
    "\n",
    "# Machine learning libs\n",
    "from sklearn.linear_model import LinearRegression\n",
    "\n",
    "# Machine Learning metrics\n",
    "from sklearn.metrics import r2_score"
   ]
  },
  {
   "cell_type": "code",
   "execution_count": 2,
   "id": "cb0e24a0",
   "metadata": {},
   "outputs": [
    {
     "data": {
      "text/html": [
       "<div>\n",
       "<style scoped>\n",
       "    .dataframe tbody tr th:only-of-type {\n",
       "        vertical-align: middle;\n",
       "    }\n",
       "\n",
       "    .dataframe tbody tr th {\n",
       "        vertical-align: top;\n",
       "    }\n",
       "\n",
       "    .dataframe thead th {\n",
       "        text-align: right;\n",
       "    }\n",
       "</style>\n",
       "<table border=\"1\" class=\"dataframe\">\n",
       "  <thead>\n",
       "    <tr style=\"text-align: right;\">\n",
       "      <th></th>\n",
       "      <th>zoneamento</th>\n",
       "      <th>tam_terreno</th>\n",
       "      <th>forma_terreno</th>\n",
       "      <th>qualidade_geral</th>\n",
       "      <th>condicao</th>\n",
       "      <th>ano_construcao</th>\n",
       "      <th>qualidade_aquecedor</th>\n",
       "      <th>ar_condicionado</th>\n",
       "      <th>tam_primeiro_andar</th>\n",
       "      <th>tam_segundo_andar</th>\n",
       "      <th>...</th>\n",
       "      <th>qtde_banheiros</th>\n",
       "      <th>qtde_comodos</th>\n",
       "      <th>qtde_lareiras</th>\n",
       "      <th>qtde_carros_garagem</th>\n",
       "      <th>tam_garagem</th>\n",
       "      <th>tam_piscina</th>\n",
       "      <th>qualidade_piscina</th>\n",
       "      <th>mes_venda</th>\n",
       "      <th>ano_venda</th>\n",
       "      <th>preco</th>\n",
       "    </tr>\n",
       "  </thead>\n",
       "  <tbody>\n",
       "    <tr>\n",
       "      <th>0</th>\n",
       "      <td>RL</td>\n",
       "      <td>785.03035</td>\n",
       "      <td>Reg</td>\n",
       "      <td>7</td>\n",
       "      <td>5</td>\n",
       "      <td>2003</td>\n",
       "      <td>Ex</td>\n",
       "      <td>Y</td>\n",
       "      <td>79.524968</td>\n",
       "      <td>79.339162</td>\n",
       "      <td>...</td>\n",
       "      <td>30</td>\n",
       "      <td>8</td>\n",
       "      <td>0</td>\n",
       "      <td>2</td>\n",
       "      <td>50.910844</td>\n",
       "      <td>0.0</td>\n",
       "      <td>NotAv</td>\n",
       "      <td>2</td>\n",
       "      <td>2008</td>\n",
       "      <td>8.465100e+05</td>\n",
       "    </tr>\n",
       "    <tr>\n",
       "      <th>1</th>\n",
       "      <td>RL</td>\n",
       "      <td>891.86880</td>\n",
       "      <td>Reg</td>\n",
       "      <td>6</td>\n",
       "      <td>8</td>\n",
       "      <td>1976</td>\n",
       "      <td>Ex</td>\n",
       "      <td>Y</td>\n",
       "      <td>117.243586</td>\n",
       "      <td>0.000000</td>\n",
       "      <td>...</td>\n",
       "      <td>2</td>\n",
       "      <td>6</td>\n",
       "      <td>1</td>\n",
       "      <td>2</td>\n",
       "      <td>42.735380</td>\n",
       "      <td>0.0</td>\n",
       "      <td>NotAv</td>\n",
       "      <td>5</td>\n",
       "      <td>2007</td>\n",
       "      <td>7.344784e+05</td>\n",
       "    </tr>\n",
       "    <tr>\n",
       "      <th>2</th>\n",
       "      <td>RL</td>\n",
       "      <td>1045.15875</td>\n",
       "      <td>IR1</td>\n",
       "      <td>7</td>\n",
       "      <td>5</td>\n",
       "      <td>2001</td>\n",
       "      <td>Ex</td>\n",
       "      <td>Y</td>\n",
       "      <td>85.470760</td>\n",
       "      <td>80.453998</td>\n",
       "      <td>...</td>\n",
       "      <td>2</td>\n",
       "      <td>6</td>\n",
       "      <td>1</td>\n",
       "      <td>2</td>\n",
       "      <td>56.485024</td>\n",
       "      <td>0.0</td>\n",
       "      <td>NotAv</td>\n",
       "      <td>9</td>\n",
       "      <td>2008</td>\n",
       "      <td>9.074100e+05</td>\n",
       "    </tr>\n",
       "    <tr>\n",
       "      <th>3</th>\n",
       "      <td>RL</td>\n",
       "      <td>887.22365</td>\n",
       "      <td>IR1</td>\n",
       "      <td>7</td>\n",
       "      <td>5</td>\n",
       "      <td>1915</td>\n",
       "      <td>Gd</td>\n",
       "      <td>Y</td>\n",
       "      <td>89.279783</td>\n",
       "      <td>70.234668</td>\n",
       "      <td>...</td>\n",
       "      <td>1</td>\n",
       "      <td>7</td>\n",
       "      <td>1</td>\n",
       "      <td>3</td>\n",
       "      <td>59.643726</td>\n",
       "      <td>0.0</td>\n",
       "      <td>NotAv</td>\n",
       "      <td>2</td>\n",
       "      <td>2006</td>\n",
       "      <td>5.684000e+05</td>\n",
       "    </tr>\n",
       "    <tr>\n",
       "      <th>4</th>\n",
       "      <td>RL</td>\n",
       "      <td>1324.79678</td>\n",
       "      <td>IR1</td>\n",
       "      <td>8</td>\n",
       "      <td>5</td>\n",
       "      <td>2000</td>\n",
       "      <td>Ex</td>\n",
       "      <td>Y</td>\n",
       "      <td>106.373935</td>\n",
       "      <td>97.826859</td>\n",
       "      <td>...</td>\n",
       "      <td>2</td>\n",
       "      <td>9</td>\n",
       "      <td>1</td>\n",
       "      <td>3</td>\n",
       "      <td>77.666908</td>\n",
       "      <td>0.0</td>\n",
       "      <td>NotAv</td>\n",
       "      <td>12</td>\n",
       "      <td>2008</td>\n",
       "      <td>1.015000e+06</td>\n",
       "    </tr>\n",
       "  </tbody>\n",
       "</table>\n",
       "<p>5 rows × 23 columns</p>\n",
       "</div>"
      ],
      "text/plain": [
       "  zoneamento  tam_terreno forma_terreno  qualidade_geral  condicao  \\\n",
       "0         RL    785.03035           Reg                7         5   \n",
       "1         RL    891.86880           Reg                6         8   \n",
       "2         RL   1045.15875           IR1                7         5   \n",
       "3         RL    887.22365           IR1                7         5   \n",
       "4         RL   1324.79678           IR1                8         5   \n",
       "\n",
       "   ano_construcao qualidade_aquecedor ar_condicionado  tam_primeiro_andar  \\\n",
       "0            2003                  Ex               Y           79.524968   \n",
       "1            1976                  Ex               Y          117.243586   \n",
       "2            2001                  Ex               Y           85.470760   \n",
       "3            1915                  Gd               Y           89.279783   \n",
       "4            2000                  Ex               Y          106.373935   \n",
       "\n",
       "   tam_segundo_andar  ...  qtde_banheiros  qtde_comodos qtde_lareiras  \\\n",
       "0          79.339162  ...              30             8             0   \n",
       "1           0.000000  ...               2             6             1   \n",
       "2          80.453998  ...               2             6             1   \n",
       "3          70.234668  ...               1             7             1   \n",
       "4          97.826859  ...               2             9             1   \n",
       "\n",
       "   qtde_carros_garagem  tam_garagem  tam_piscina  qualidade_piscina  \\\n",
       "0                    2    50.910844          0.0              NotAv   \n",
       "1                    2    42.735380          0.0              NotAv   \n",
       "2                    2    56.485024          0.0              NotAv   \n",
       "3                    3    59.643726          0.0              NotAv   \n",
       "4                    3    77.666908          0.0              NotAv   \n",
       "\n",
       "   mes_venda  ano_venda         preco  \n",
       "0          2       2008  8.465100e+05  \n",
       "1          5       2007  7.344784e+05  \n",
       "2          9       2008  9.074100e+05  \n",
       "3          2       2006  5.684000e+05  \n",
       "4         12       2008  1.015000e+06  \n",
       "\n",
       "[5 rows x 23 columns]"
      ]
     },
     "execution_count": 2,
     "metadata": {},
     "output_type": "execute_result"
    }
   ],
   "source": [
    "df = pd.read_csv('/Users/dellacorte/py-projects/data-science/supervised-learning-regression-reference/databases/house-price.csv', sep=\";\")\n",
    "df.head()"
   ]
  },
  {
   "cell_type": "code",
   "execution_count": 3,
   "id": "090760a7",
   "metadata": {},
   "outputs": [
    {
     "data": {
      "text/plain": [
       "(1458, 23)"
      ]
     },
     "execution_count": 3,
     "metadata": {},
     "output_type": "execute_result"
    }
   ],
   "source": [
    "df.shape"
   ]
  },
  {
   "cell_type": "code",
   "execution_count": 4,
   "id": "5c31ca35",
   "metadata": {},
   "outputs": [
    {
     "data": {
      "text/plain": [
       "Index(['zoneamento', 'tam_terreno', 'forma_terreno', 'qualidade_geral',\n",
       "       'condicao', 'ano_construcao', 'qualidade_aquecedor', 'ar_condicionado',\n",
       "       'tam_primeiro_andar', 'tam_segundo_andar', 'tam_sala_estar',\n",
       "       'qtde_quartos', 'qualidade_cozinha', 'qtde_banheiros', 'qtde_comodos',\n",
       "       'qtde_lareiras', 'qtde_carros_garagem', 'tam_garagem', 'tam_piscina',\n",
       "       'qualidade_piscina', 'mes_venda', 'ano_venda', 'preco'],\n",
       "      dtype='object')"
      ]
     },
     "execution_count": 4,
     "metadata": {},
     "output_type": "execute_result"
    }
   ],
   "source": [
    "df.columns"
   ]
  },
  {
   "cell_type": "code",
   "execution_count": 5,
   "id": "6bc1c93c",
   "metadata": {},
   "outputs": [
    {
     "name": "stdout",
     "output_type": "stream",
     "text": [
      "  zoning   land_size land_shape  overall_quality  condition  year_built  \\\n",
      "0     RL   785.03035        Reg                7          5        2003   \n",
      "1     RL   891.86880        Reg                6          8        1976   \n",
      "2     RL  1045.15875        IR1                7          5        2001   \n",
      "3     RL   887.22365        IR1                7          5        1915   \n",
      "4     RL  1324.79678        IR1                8          5        2000   \n",
      "\n",
      "  heater_quality air_conditioning  first_floor_size  second_floor_size  ...  \\\n",
      "0             Ex                Y         79.524968          79.339162  ...   \n",
      "1             Ex                Y        117.243586           0.000000  ...   \n",
      "2             Ex                Y         85.470760          80.453998  ...   \n",
      "3             Gd                Y         89.279783          70.234668  ...   \n",
      "4             Ex                Y        106.373935          97.826859  ...   \n",
      "\n",
      "   number_of_bathrooms  number_of_rooms number_of_fireplaces  garage_capacity  \\\n",
      "0                   30                8                    0                2   \n",
      "1                    2                6                    1                2   \n",
      "2                    2                6                    1                2   \n",
      "3                    1                7                    1                3   \n",
      "4                    2                9                    1                3   \n",
      "\n",
      "   garage_size  pool_size  pool_quality  sale_month  sale_year         price  \n",
      "0    50.910844        0.0         NotAv           2       2008  8.465100e+05  \n",
      "1    42.735380        0.0         NotAv           5       2007  7.344784e+05  \n",
      "2    56.485024        0.0         NotAv           9       2008  9.074100e+05  \n",
      "3    59.643726        0.0         NotAv           2       2006  5.684000e+05  \n",
      "4    77.666908        0.0         NotAv          12       2008  1.015000e+06  \n",
      "\n",
      "[5 rows x 23 columns]\n"
     ]
    }
   ],
   "source": [
    "# Changing to en-us column names\n",
    "df.rename(columns={\n",
    "    'zoneamento': 'zoning',\n",
    "    'tam_terreno': 'land_size',\n",
    "    'forma_terreno': 'land_shape',\n",
    "    'qualidade_geral': 'overall_quality',\n",
    "    'condicao': 'condition',\n",
    "    'ano_construcao': 'year_built',\n",
    "    'qualidade_aquecedor': 'heater_quality',\n",
    "    'ar_condicionado': 'air_conditioning',\n",
    "    'tam_primeiro_andar': 'first_floor_size',\n",
    "    'tam_segundo_andar': 'second_floor_size',\n",
    "    'tam_sala_estar': 'living_room_size',\n",
    "    'qtde_quartos': 'number_of_bedrooms',\n",
    "    'qualidade_cozinha': 'kitchen_quality',\n",
    "    'qtde_banheiros': 'number_of_bathrooms',\n",
    "    'qtde_comodos': 'number_of_rooms',\n",
    "    'qtde_lareiras': 'number_of_fireplaces',\n",
    "    'qtde_carros_garagem': 'garage_capacity',\n",
    "    'tam_garagem': 'garage_size',\n",
    "    'tam_piscina': 'pool_size',\n",
    "    'qualidade_piscina': 'pool_quality',\n",
    "    'mes_venda': 'sale_month',\n",
    "    'ano_venda': 'sale_year',\n",
    "    'preco': 'price'\n",
    "}, inplace=True)\n",
    "\n",
    "# Display the renamed DataFrame\n",
    "print(df.head())"
   ]
  },
  {
   "cell_type": "code",
   "execution_count": 6,
   "id": "db29e2a8",
   "metadata": {},
   "outputs": [
    {
     "data": {
      "text/html": [
       "<div>\n",
       "<style scoped>\n",
       "    .dataframe tbody tr th:only-of-type {\n",
       "        vertical-align: middle;\n",
       "    }\n",
       "\n",
       "    .dataframe tbody tr th {\n",
       "        vertical-align: top;\n",
       "    }\n",
       "\n",
       "    .dataframe thead th {\n",
       "        text-align: right;\n",
       "    }\n",
       "</style>\n",
       "<table border=\"1\" class=\"dataframe\">\n",
       "  <thead>\n",
       "    <tr style=\"text-align: right;\">\n",
       "      <th></th>\n",
       "      <th>zoning</th>\n",
       "      <th>land_size</th>\n",
       "      <th>land_shape</th>\n",
       "      <th>overall_quality</th>\n",
       "      <th>condition</th>\n",
       "      <th>year_built</th>\n",
       "      <th>heater_quality</th>\n",
       "      <th>air_conditioning</th>\n",
       "      <th>first_floor_size</th>\n",
       "      <th>second_floor_size</th>\n",
       "      <th>...</th>\n",
       "      <th>number_of_bathrooms</th>\n",
       "      <th>number_of_rooms</th>\n",
       "      <th>number_of_fireplaces</th>\n",
       "      <th>garage_capacity</th>\n",
       "      <th>garage_size</th>\n",
       "      <th>pool_size</th>\n",
       "      <th>pool_quality</th>\n",
       "      <th>sale_month</th>\n",
       "      <th>sale_year</th>\n",
       "      <th>price</th>\n",
       "    </tr>\n",
       "  </thead>\n",
       "  <tbody>\n",
       "    <tr>\n",
       "      <th>0</th>\n",
       "      <td>RL</td>\n",
       "      <td>785.03035</td>\n",
       "      <td>Reg</td>\n",
       "      <td>7</td>\n",
       "      <td>5</td>\n",
       "      <td>2003</td>\n",
       "      <td>Ex</td>\n",
       "      <td>Y</td>\n",
       "      <td>79.524968</td>\n",
       "      <td>79.339162</td>\n",
       "      <td>...</td>\n",
       "      <td>30</td>\n",
       "      <td>8</td>\n",
       "      <td>0</td>\n",
       "      <td>2</td>\n",
       "      <td>50.910844</td>\n",
       "      <td>0.0</td>\n",
       "      <td>NotAv</td>\n",
       "      <td>2</td>\n",
       "      <td>2008</td>\n",
       "      <td>8.465100e+05</td>\n",
       "    </tr>\n",
       "    <tr>\n",
       "      <th>1</th>\n",
       "      <td>RL</td>\n",
       "      <td>891.86880</td>\n",
       "      <td>Reg</td>\n",
       "      <td>6</td>\n",
       "      <td>8</td>\n",
       "      <td>1976</td>\n",
       "      <td>Ex</td>\n",
       "      <td>Y</td>\n",
       "      <td>117.243586</td>\n",
       "      <td>0.000000</td>\n",
       "      <td>...</td>\n",
       "      <td>2</td>\n",
       "      <td>6</td>\n",
       "      <td>1</td>\n",
       "      <td>2</td>\n",
       "      <td>42.735380</td>\n",
       "      <td>0.0</td>\n",
       "      <td>NotAv</td>\n",
       "      <td>5</td>\n",
       "      <td>2007</td>\n",
       "      <td>7.344784e+05</td>\n",
       "    </tr>\n",
       "    <tr>\n",
       "      <th>2</th>\n",
       "      <td>RL</td>\n",
       "      <td>1045.15875</td>\n",
       "      <td>IR1</td>\n",
       "      <td>7</td>\n",
       "      <td>5</td>\n",
       "      <td>2001</td>\n",
       "      <td>Ex</td>\n",
       "      <td>Y</td>\n",
       "      <td>85.470760</td>\n",
       "      <td>80.453998</td>\n",
       "      <td>...</td>\n",
       "      <td>2</td>\n",
       "      <td>6</td>\n",
       "      <td>1</td>\n",
       "      <td>2</td>\n",
       "      <td>56.485024</td>\n",
       "      <td>0.0</td>\n",
       "      <td>NotAv</td>\n",
       "      <td>9</td>\n",
       "      <td>2008</td>\n",
       "      <td>9.074100e+05</td>\n",
       "    </tr>\n",
       "    <tr>\n",
       "      <th>3</th>\n",
       "      <td>RL</td>\n",
       "      <td>887.22365</td>\n",
       "      <td>IR1</td>\n",
       "      <td>7</td>\n",
       "      <td>5</td>\n",
       "      <td>1915</td>\n",
       "      <td>Gd</td>\n",
       "      <td>Y</td>\n",
       "      <td>89.279783</td>\n",
       "      <td>70.234668</td>\n",
       "      <td>...</td>\n",
       "      <td>1</td>\n",
       "      <td>7</td>\n",
       "      <td>1</td>\n",
       "      <td>3</td>\n",
       "      <td>59.643726</td>\n",
       "      <td>0.0</td>\n",
       "      <td>NotAv</td>\n",
       "      <td>2</td>\n",
       "      <td>2006</td>\n",
       "      <td>5.684000e+05</td>\n",
       "    </tr>\n",
       "    <tr>\n",
       "      <th>4</th>\n",
       "      <td>RL</td>\n",
       "      <td>1324.79678</td>\n",
       "      <td>IR1</td>\n",
       "      <td>8</td>\n",
       "      <td>5</td>\n",
       "      <td>2000</td>\n",
       "      <td>Ex</td>\n",
       "      <td>Y</td>\n",
       "      <td>106.373935</td>\n",
       "      <td>97.826859</td>\n",
       "      <td>...</td>\n",
       "      <td>2</td>\n",
       "      <td>9</td>\n",
       "      <td>1</td>\n",
       "      <td>3</td>\n",
       "      <td>77.666908</td>\n",
       "      <td>0.0</td>\n",
       "      <td>NotAv</td>\n",
       "      <td>12</td>\n",
       "      <td>2008</td>\n",
       "      <td>1.015000e+06</td>\n",
       "    </tr>\n",
       "  </tbody>\n",
       "</table>\n",
       "<p>5 rows × 23 columns</p>\n",
       "</div>"
      ],
      "text/plain": [
       "  zoning   land_size land_shape  overall_quality  condition  year_built  \\\n",
       "0     RL   785.03035        Reg                7          5        2003   \n",
       "1     RL   891.86880        Reg                6          8        1976   \n",
       "2     RL  1045.15875        IR1                7          5        2001   \n",
       "3     RL   887.22365        IR1                7          5        1915   \n",
       "4     RL  1324.79678        IR1                8          5        2000   \n",
       "\n",
       "  heater_quality air_conditioning  first_floor_size  second_floor_size  ...  \\\n",
       "0             Ex                Y         79.524968          79.339162  ...   \n",
       "1             Ex                Y        117.243586           0.000000  ...   \n",
       "2             Ex                Y         85.470760          80.453998  ...   \n",
       "3             Gd                Y         89.279783          70.234668  ...   \n",
       "4             Ex                Y        106.373935          97.826859  ...   \n",
       "\n",
       "   number_of_bathrooms  number_of_rooms number_of_fireplaces  garage_capacity  \\\n",
       "0                   30                8                    0                2   \n",
       "1                    2                6                    1                2   \n",
       "2                    2                6                    1                2   \n",
       "3                    1                7                    1                3   \n",
       "4                    2                9                    1                3   \n",
       "\n",
       "   garage_size  pool_size  pool_quality  sale_month  sale_year         price  \n",
       "0    50.910844        0.0         NotAv           2       2008  8.465100e+05  \n",
       "1    42.735380        0.0         NotAv           5       2007  7.344784e+05  \n",
       "2    56.485024        0.0         NotAv           9       2008  9.074100e+05  \n",
       "3    59.643726        0.0         NotAv           2       2006  5.684000e+05  \n",
       "4    77.666908        0.0         NotAv          12       2008  1.015000e+06  \n",
       "\n",
       "[5 rows x 23 columns]"
      ]
     },
     "execution_count": 6,
     "metadata": {},
     "output_type": "execute_result"
    }
   ],
   "source": [
    "df.head()"
   ]
  },
  {
   "cell_type": "code",
   "execution_count": 7,
   "id": "c88c8133",
   "metadata": {},
   "outputs": [
    {
     "data": {
      "text/plain": [
       "zoning                   object\n",
       "land_size               float64\n",
       "land_shape               object\n",
       "overall_quality           int64\n",
       "condition                 int64\n",
       "year_built                int64\n",
       "heater_quality           object\n",
       "air_conditioning         object\n",
       "first_floor_size        float64\n",
       "second_floor_size       float64\n",
       "living_room_size        float64\n",
       "number_of_bedrooms        int64\n",
       "kitchen_quality          object\n",
       "number_of_bathrooms       int64\n",
       "number_of_rooms           int64\n",
       "number_of_fireplaces      int64\n",
       "garage_capacity           int64\n",
       "garage_size             float64\n",
       "pool_size               float64\n",
       "pool_quality             object\n",
       "sale_month                int64\n",
       "sale_year                 int64\n",
       "price                   float64\n",
       "dtype: object"
      ]
     },
     "execution_count": 7,
     "metadata": {},
     "output_type": "execute_result"
    }
   ],
   "source": [
    "df.dtypes"
   ]
  },
  {
   "cell_type": "code",
   "execution_count": 8,
   "id": "5cbebea3",
   "metadata": {},
   "outputs": [],
   "source": [
    "# selecting target column\n",
    "target = 'price'\n",
    "\n",
    "# building a list with the names of only categorical variables\n",
    "# select_dtypes (include='object') list of variables of type object\n",
    "cat_vars = df.select_dtypes(include='object').columns.to_list()\n",
    "\n",
    "# list only the names of numeric variables\n",
    "# using list comprehension\n",
    "num_vars = [col for col in df.columns if col not in cat_vars + ['Id', target]]\n",
    "\n",
    "'''\n",
    "# using for inside for\n",
    "# produces the same response as the previous code\n",
    "num_vars = []\n",
    "for col in df.columns:\n",
    "  if col not in cat_vars + ['Id', target]:\n",
    "    num_vars.append(col)\n",
    "'''\n",
    "\n",
    "# separating the base into training and testing\n",
    "# at this point we will only use numeric variables\n",
    "X = df.filter(num_vars).copy()\n",
    "y = df['price'].copy()\n",
    "\n",
    "X_train, X_test, y_train, y_test = train_test_split(X, y, train_size=0.8, random_state=30)"
   ]
  },
  {
   "cell_type": "code",
   "execution_count": 9,
   "id": "3ec80dda",
   "metadata": {},
   "outputs": [
    {
     "data": {
      "text/plain": [
       "482    537950.0\n",
       "403    609000.0\n",
       "161    418992.0\n",
       "109    730800.0\n",
       "814    556220.0\n",
       "Name: price, dtype: float64"
      ]
     },
     "execution_count": 9,
     "metadata": {},
     "output_type": "execute_result"
    }
   ],
   "source": [
    "y_train.head()"
   ]
  },
  {
   "cell_type": "code",
   "execution_count": 10,
   "id": "e6343f78",
   "metadata": {},
   "outputs": [
    {
     "data": {
      "text/html": [
       "<div>\n",
       "<style scoped>\n",
       "    .dataframe tbody tr th:only-of-type {\n",
       "        vertical-align: middle;\n",
       "    }\n",
       "\n",
       "    .dataframe tbody tr th {\n",
       "        vertical-align: top;\n",
       "    }\n",
       "\n",
       "    .dataframe thead th {\n",
       "        text-align: right;\n",
       "    }\n",
       "</style>\n",
       "<table border=\"1\" class=\"dataframe\">\n",
       "  <thead>\n",
       "    <tr style=\"text-align: right;\">\n",
       "      <th></th>\n",
       "      <th>land_size</th>\n",
       "      <th>overall_quality</th>\n",
       "      <th>condition</th>\n",
       "      <th>year_built</th>\n",
       "      <th>first_floor_size</th>\n",
       "      <th>second_floor_size</th>\n",
       "      <th>living_room_size</th>\n",
       "      <th>number_of_bedrooms</th>\n",
       "      <th>number_of_bathrooms</th>\n",
       "      <th>number_of_rooms</th>\n",
       "      <th>number_of_fireplaces</th>\n",
       "      <th>garage_capacity</th>\n",
       "      <th>garage_size</th>\n",
       "      <th>pool_size</th>\n",
       "      <th>sale_month</th>\n",
       "      <th>sale_year</th>\n",
       "    </tr>\n",
       "  </thead>\n",
       "  <tbody>\n",
       "    <tr>\n",
       "      <th>482</th>\n",
       "      <td>720.741474</td>\n",
       "      <td>5</td>\n",
       "      <td>7</td>\n",
       "      <td>1962</td>\n",
       "      <td>92.810097</td>\n",
       "      <td>0.000000</td>\n",
       "      <td>92.810097</td>\n",
       "      <td>3</td>\n",
       "      <td>1</td>\n",
       "      <td>6</td>\n",
       "      <td>0</td>\n",
       "      <td>1</td>\n",
       "      <td>24.526392</td>\n",
       "      <td>0.0</td>\n",
       "      <td>3</td>\n",
       "      <td>2007</td>\n",
       "    </tr>\n",
       "    <tr>\n",
       "      <th>403</th>\n",
       "      <td>928.193873</td>\n",
       "      <td>4</td>\n",
       "      <td>4</td>\n",
       "      <td>1976</td>\n",
       "      <td>150.502860</td>\n",
       "      <td>0.000000</td>\n",
       "      <td>150.502860</td>\n",
       "      <td>3</td>\n",
       "      <td>2</td>\n",
       "      <td>8</td>\n",
       "      <td>1</td>\n",
       "      <td>2</td>\n",
       "      <td>45.522470</td>\n",
       "      <td>0.0</td>\n",
       "      <td>6</td>\n",
       "      <td>2009</td>\n",
       "    </tr>\n",
       "    <tr>\n",
       "      <th>161</th>\n",
       "      <td>510.966500</td>\n",
       "      <td>4</td>\n",
       "      <td>6</td>\n",
       "      <td>1956</td>\n",
       "      <td>81.940446</td>\n",
       "      <td>0.000000</td>\n",
       "      <td>81.940446</td>\n",
       "      <td>1</td>\n",
       "      <td>1</td>\n",
       "      <td>4</td>\n",
       "      <td>0</td>\n",
       "      <td>0</td>\n",
       "      <td>0.000000</td>\n",
       "      <td>0.0</td>\n",
       "      <td>4</td>\n",
       "      <td>2007</td>\n",
       "    </tr>\n",
       "    <tr>\n",
       "      <th>109</th>\n",
       "      <td>719.998250</td>\n",
       "      <td>7</td>\n",
       "      <td>5</td>\n",
       "      <td>2000</td>\n",
       "      <td>71.906922</td>\n",
       "      <td>60.944368</td>\n",
       "      <td>132.851290</td>\n",
       "      <td>3</td>\n",
       "      <td>2</td>\n",
       "      <td>7</td>\n",
       "      <td>1</td>\n",
       "      <td>2</td>\n",
       "      <td>37.161200</td>\n",
       "      <td>0.0</td>\n",
       "      <td>4</td>\n",
       "      <td>2010</td>\n",
       "    </tr>\n",
       "    <tr>\n",
       "      <th>814</th>\n",
       "      <td>1061.416775</td>\n",
       "      <td>5</td>\n",
       "      <td>6</td>\n",
       "      <td>1954</td>\n",
       "      <td>93.646224</td>\n",
       "      <td>0.000000</td>\n",
       "      <td>93.646224</td>\n",
       "      <td>2</td>\n",
       "      <td>1</td>\n",
       "      <td>4</td>\n",
       "      <td>1</td>\n",
       "      <td>1</td>\n",
       "      <td>25.548325</td>\n",
       "      <td>0.0</td>\n",
       "      <td>7</td>\n",
       "      <td>2006</td>\n",
       "    </tr>\n",
       "  </tbody>\n",
       "</table>\n",
       "</div>"
      ],
      "text/plain": [
       "       land_size  overall_quality  condition  year_built  first_floor_size  \\\n",
       "482   720.741474                5          7        1962         92.810097   \n",
       "403   928.193873                4          4        1976        150.502860   \n",
       "161   510.966500                4          6        1956         81.940446   \n",
       "109   719.998250                7          5        2000         71.906922   \n",
       "814  1061.416775                5          6        1954         93.646224   \n",
       "\n",
       "     second_floor_size  living_room_size  number_of_bedrooms  \\\n",
       "482           0.000000         92.810097                   3   \n",
       "403           0.000000        150.502860                   3   \n",
       "161           0.000000         81.940446                   1   \n",
       "109          60.944368        132.851290                   3   \n",
       "814           0.000000         93.646224                   2   \n",
       "\n",
       "     number_of_bathrooms  number_of_rooms  number_of_fireplaces  \\\n",
       "482                    1                6                     0   \n",
       "403                    2                8                     1   \n",
       "161                    1                4                     0   \n",
       "109                    2                7                     1   \n",
       "814                    1                4                     1   \n",
       "\n",
       "     garage_capacity  garage_size  pool_size  sale_month  sale_year  \n",
       "482                1    24.526392        0.0           3       2007  \n",
       "403                2    45.522470        0.0           6       2009  \n",
       "161                0     0.000000        0.0           4       2007  \n",
       "109                2    37.161200        0.0           4       2010  \n",
       "814                1    25.548325        0.0           7       2006  "
      ]
     },
     "execution_count": 10,
     "metadata": {},
     "output_type": "execute_result"
    }
   ],
   "source": [
    "X_train.head()"
   ]
  },
  {
   "cell_type": "markdown",
   "id": "43856703",
   "metadata": {},
   "source": [
    "## Applying Multiple Linear Regression"
   ]
  },
  {
   "cell_type": "code",
   "execution_count": 11,
   "id": "d2bb1ed1",
   "metadata": {},
   "outputs": [
    {
     "name": "stdout",
     "output_type": "stream",
     "text": [
      "Requirement already satisfied: feature-engine in /Users/dellacorte/opt/anaconda3/lib/python3.9/site-packages (1.3.0)\n",
      "Requirement already satisfied: numpy>=1.18.2 in /Users/dellacorte/opt/anaconda3/lib/python3.9/site-packages (from feature-engine) (1.23.0)\n",
      "Requirement already satisfied: pandas>=1.0.3 in /Users/dellacorte/opt/anaconda3/lib/python3.9/site-packages (from feature-engine) (2.2.3)\n",
      "Requirement already satisfied: scikit-learn>=1.0.0 in /Users/dellacorte/opt/anaconda3/lib/python3.9/site-packages (from feature-engine) (1.2.2)\n",
      "Requirement already satisfied: scipy>=1.4.1 in /Users/dellacorte/opt/anaconda3/lib/python3.9/site-packages (from feature-engine) (1.13.1)\n",
      "Requirement already satisfied: statsmodels>=0.11.1 in /Users/dellacorte/opt/anaconda3/lib/python3.9/site-packages (from feature-engine) (0.13.2)\n",
      "Requirement already satisfied: python-dateutil>=2.8.2 in /Users/dellacorte/opt/anaconda3/lib/python3.9/site-packages (from pandas>=1.0.3->feature-engine) (2.9.0.post0)\n",
      "Requirement already satisfied: pytz>=2020.1 in /Users/dellacorte/opt/anaconda3/lib/python3.9/site-packages (from pandas>=1.0.3->feature-engine) (2024.2)\n",
      "Requirement already satisfied: tzdata>=2022.7 in /Users/dellacorte/opt/anaconda3/lib/python3.9/site-packages (from pandas>=1.0.3->feature-engine) (2024.2)\n",
      "Requirement already satisfied: joblib>=1.1.1 in /Users/dellacorte/opt/anaconda3/lib/python3.9/site-packages (from scikit-learn>=1.0.0->feature-engine) (1.4.2)\n",
      "Requirement already satisfied: threadpoolctl>=2.0.0 in /Users/dellacorte/opt/anaconda3/lib/python3.9/site-packages (from scikit-learn>=1.0.0->feature-engine) (3.5.0)\n",
      "Requirement already satisfied: patsy>=0.5.2 in /Users/dellacorte/opt/anaconda3/lib/python3.9/site-packages (from statsmodels>=0.11.1->feature-engine) (0.5.2)\n",
      "Requirement already satisfied: packaging>=21.3 in /Users/dellacorte/opt/anaconda3/lib/python3.9/site-packages (from statsmodels>=0.11.1->feature-engine) (24.2)\n",
      "Requirement already satisfied: six in /Users/dellacorte/opt/anaconda3/lib/python3.9/site-packages (from patsy>=0.5.2->statsmodels>=0.11.1->feature-engine) (1.17.0)\n"
     ]
    }
   ],
   "source": [
    "# installing the feature-engine package\n",
    "!pip install feature-engine"
   ]
  },
  {
   "cell_type": "code",
   "execution_count": 12,
   "id": "b63c2c04",
   "metadata": {},
   "outputs": [],
   "source": [
    "model = Pipeline(steps=[\n",
    "    ('numeric_imputer', ArbitraryNumberImputer(arbitrary_number=-999, variables=num_vars)),\n",
    "    ('scaler', SklearnTransformerWrapper(transformer=StandardScaler(), variables=num_vars)),\n",
    "    ('lr', LinearRegression())\n",
    "])"
   ]
  },
  {
   "cell_type": "code",
   "execution_count": 13,
   "id": "beaa9315",
   "metadata": {},
   "outputs": [],
   "source": [
    "# .fit will generate the machine learning model, calculate the recipe on the training basis\n",
    "model.fit(X_train, y_train)\n",
    "y_predict = model.predict(X_test)\n",
    "y_expected = y_test.copy()"
   ]
  },
  {
   "cell_type": "code",
   "execution_count": 14,
   "id": "3190d7eb",
   "metadata": {},
   "outputs": [
    {
     "data": {
      "text/plain": [
       "(1456    577027.5\n",
       " 791     913500.0\n",
       " 1082    761250.0\n",
       " Name: price, dtype: float64,\n",
       " array([479345.9573164 , 957375.94167732, 714520.17602057]))"
      ]
     },
     "execution_count": 14,
     "metadata": {},
     "output_type": "execute_result"
    }
   ],
   "source": [
    "y_expected[:3], y_predict[:3]"
   ]
  },
  {
   "cell_type": "code",
   "execution_count": 15,
   "id": "4e00f0b7",
   "metadata": {},
   "outputs": [
    {
     "data": {
      "text/plain": [
       "738130.4797160049"
      ]
     },
     "execution_count": 15,
     "metadata": {},
     "output_type": "execute_result"
    }
   ],
   "source": [
    "# b0\n",
    "model[-1].intercept_"
   ]
  },
  {
   "cell_type": "code",
   "execution_count": 16,
   "id": "518d1454",
   "metadata": {},
   "outputs": [
    {
     "data": {
      "text/plain": [
       "array([ 27491.88367964, 109000.97062947,  28377.13358318,  65975.29887645,\n",
       "        58509.00658543,  24615.05743636,  84915.49045799, -29609.20357919,\n",
       "       -13180.23736347,  19950.79683075,  13769.5380539 ,  22268.12321766,\n",
       "        15731.15689468, -19071.02351735,  -1515.09217393,  -1849.52421253])"
      ]
     },
     "execution_count": 16,
     "metadata": {},
     "output_type": "execute_result"
    }
   ],
   "source": [
    "# b1, b2, b3, ..., bn\n",
    "model[-1].coef_"
   ]
  },
  {
   "cell_type": "code",
   "execution_count": 17,
   "id": "b4cb2303",
   "metadata": {},
   "outputs": [
    {
     "data": {
      "image/png": "[encoded data removed]",
      "text/plain": [
       "<Figure size 800x600 with 1 Axes>"
      ]
     },
     "metadata": {},
     "output_type": "display_data"
    }
   ],
   "source": [
    "fig, ax = plt.subplots(figsize=(8, 6))\n",
    "\n",
    "sns.regplot(x=y_expected, y=y_predict, ax=ax);"
   ]
  },
  {
   "cell_type": "markdown",
   "id": "f8b0ca62",
   "metadata": {},
   "source": [
    "## Computing the Metrics\n",
    "- R2 and R2 Adjusted\n",
    "- MAE (Mean Absolute Error)\n",
    "- MSE (Mean Squared Error)\n",
    "- RMSE (Root Mean Squared Error)\n",
    "- RMSLE (Root Mean Squared Logarithmic Error)\n",
    "- Max Error\n",
    "- MedAE (Median Absolute Percentage Error)\n",
    "- MAPE (Mean Absolute Percentage Error)\n",
    "\n",
    "\n",
    "\n",
    "\n",
    "\n",
    "\n",
    "As we've seen, some of these metrics are affected by outliers, so let's test with and without outliers."
   ]
  },
  {
   "cell_type": "code",
   "execution_count": 21,
   "id": "a7337996",
   "metadata": {},
   "outputs": [
    {
     "data": {
      "image/png": "[encoded data removed]",
      "text/plain": [
       "<Figure size 1200x500 with 1 Axes>"
      ]
     },
     "metadata": {},
     "output_type": "display_data"
    }
   ],
   "source": [
    "fig, ax = plt.subplots(figsize=(12,5))\n",
    "\n",
    "sns.boxplot(x=y_expected);"
   ]
  },
  {
   "cell_type": "code",
   "execution_count": 37,
   "id": "d22f61cc",
   "metadata": {},
   "outputs": [],
   "source": [
    "# ensuring that both variables without outliers have the same dimension\n",
    "# Let's remove values greater than 340000\n",
    "y_expected_without_outlier = y_expected[y_expected < 1500000]\n",
    "y_predict_without_outlier = y_predict[y_expected < 1500000]"
   ]
  },
  {
   "cell_type": "code",
   "execution_count": 38,
   "id": "2e4631a5",
   "metadata": {},
   "outputs": [
    {
     "data": {
      "text/plain": [
       "(283,)"
      ]
     },
     "execution_count": 38,
     "metadata": {},
     "output_type": "execute_result"
    }
   ],
   "source": [
    "y_expected_without_outlier.shape"
   ]
  },
  {
   "cell_type": "code",
   "execution_count": 39,
   "id": "8d565f4d",
   "metadata": {},
   "outputs": [
    {
     "data": {
      "text/plain": [
       "array([ 479345.9573164 ,  957375.94167732,  714520.17602057,\n",
       "        976408.73238267,  619187.71805646,  548687.34069907,\n",
       "        -34809.79063088,  612979.81045686, 1058423.67473433,\n",
       "        329701.58773356,  539278.90134285,  745069.85835885,\n",
       "        541476.87793588,  487055.99877107,  699244.21183221,\n",
       "        715744.97944197,  217823.0679412 ,  398662.87329824,\n",
       "        875194.99434479,  580648.41335261,  439811.49513459,\n",
       "        649882.35367414,  429929.97998509,  758386.47673459,\n",
       "        768371.00887331,  514401.16014605,  287099.35224207,\n",
       "        981595.64430061,  497674.58892089,  560172.97180579,\n",
       "        240574.06451035,  737069.25007284,  626154.56307646,\n",
       "        755914.49180246,  495280.25192462,  909003.05291452,\n",
       "        666560.76998176,  687497.31648854,  446123.67075831,\n",
       "        969794.86260974,  385826.86609346,  442708.07045475,\n",
       "        938159.67944978,  538148.49163643,  916037.54762942,\n",
       "        719998.03269681,  743941.46044882, 1004219.22533664,\n",
       "        561267.89099473,  266730.77816935,  104174.06663769,\n",
       "        556585.51315619,  394051.24580047,  805880.74130899,\n",
       "        688092.73680979,  802778.17092811,  361533.36219289,\n",
       "        624305.93740469,  520360.13771184,  314039.56508638,\n",
       "        316454.72816335,  608890.7258752 ,  383547.36082366,\n",
       "        192974.24221249,  726769.93586155,  332159.62079765,\n",
       "        861756.76888145,  494150.65385116,  768410.99594036,\n",
       "        875158.30145605,  559237.3191012 ,  956837.62458274,\n",
       "        652020.30655548,  831374.8360109 , 1012765.24530827,\n",
       "        466884.59990907,  680910.72667914,  514088.86920262,\n",
       "        662520.94620036,  954952.82318436,  799512.79270845,\n",
       "        772416.61723192,  248532.74889204,  432974.21172417,\n",
       "        826180.2245112 ,  585454.80141857,  689833.58695226,\n",
       "        722985.31703337,  547864.9442226 ,  480298.17911402,\n",
       "        625359.28881724,  834904.19284891,  895743.04047071,\n",
       "        483134.77029035,  629792.3881702 ,  905602.56471848,\n",
       "        836212.94960144,  540710.37712461,  808686.88574392,\n",
       "        757868.12201661,  489618.18800724,  738962.44596227,\n",
       "        898427.1925561 ,  315181.88103694,  822209.71932389,\n",
       "        913640.39163644,  490008.79223092,  587747.33556898,\n",
       "        425484.90664827,  350090.52270161,  642164.90254966,\n",
       "        936717.8961027 , 2144229.27941374,  820122.79754328,\n",
       "        862867.63603143,  704650.0046676 ,  558596.92188545,\n",
       "        725980.29227991,  795937.7109108 ,  427539.3962711 ,\n",
       "        516956.58165562,  777407.43064947,  628131.00630889,\n",
       "        750002.41985568,  571135.13487594,  437029.52606934,\n",
       "        719031.55389361,  704368.9672684 ,   40814.40257363,\n",
       "        451584.5243189 ,  416715.3576114 ,  378626.763531  ,\n",
       "        824336.87826096,  926999.09232197,  477058.27123904,\n",
       "        781896.53285634,  768939.31570863,  377482.53199209,\n",
       "        731470.7704643 ,  569842.27229575, 1063957.46904183,\n",
       "        457719.82761766,  357329.52523768,  655383.55446507,\n",
       "        784591.34888694,  550230.51480182,  685328.13693916,\n",
       "        719777.62020704,  509002.52731052,  390615.9847047 ,\n",
       "        491048.73091334,  454138.40611245,  371912.56966982,\n",
       "        785017.53800203,  793306.15471345,  602928.15497976,\n",
       "        951380.81559549,  666170.56333312,  870158.57646785,\n",
       "       1063404.1411852 ,  383931.23107697,  735735.93518539,\n",
       "        630347.18268994,  405237.54521453,  967197.44079262,\n",
       "        729496.69738538,  550674.88951527,  677720.4973696 ,\n",
       "        942975.15866399,  725981.38976957,  880858.5587035 ,\n",
       "        396041.68196465,  476585.07318036,  730503.20426364,\n",
       "        743631.23198683,  722950.48796679,  547662.70306264,\n",
       "        869037.27381188,  977611.69528386,  794494.38940949,\n",
       "        484628.40214099,  434306.49572016, 1003250.41303467,\n",
       "        523853.69653371,  638741.66096865,  289920.12547586,\n",
       "        494691.3371058 ,  727063.94291035,  302657.287643  ,\n",
       "        803052.19059659,  271654.48090808,  772272.5445726 ,\n",
       "        872390.32545531,  689589.78133405,  881609.76848684,\n",
       "        280197.98154937,  885765.79619014,  504717.06341874,\n",
       "        467964.94448118,  470784.38478889,  281215.30399096,\n",
       "        429862.12762844,  559557.76204059,  636176.57264365,\n",
       "        778299.45999804,  968167.12459679,  534718.42906993,\n",
       "        798399.04672305,  754054.13162059,  728289.17301135,\n",
       "        420507.73992663,  494746.9451131 ,  532522.65539145,\n",
       "        985564.55973969,  908894.29368947,  449667.01383937,\n",
       "        495421.74145508,  620813.14414478, 1059596.96521948,\n",
       "        793421.21572896,  621835.31798776,  694722.89490308,\n",
       "        721117.68011917,  326362.67907795,  574280.59733368,\n",
       "        618920.25192467,  914172.87442538,  314207.97181868,\n",
       "        839041.24788066,  433031.77733046,  583005.70571708,\n",
       "        625405.24895363,  445313.48123801,  245590.1920288 ,\n",
       "        770994.02611489,  687384.08165155,  764714.04607484,\n",
       "        277950.48724872,  794080.58625136,  584406.70341196,\n",
       "        416969.48616303,  472491.47991533,  873836.43255341,\n",
       "        734657.51939888,  201738.77641359,  751402.78077574,\n",
       "        875835.1964247 ,  549078.29794386,  984769.85489946,\n",
       "        952507.52795808])"
      ]
     },
     "execution_count": 39,
     "metadata": {},
     "output_type": "execute_result"
    }
   ],
   "source": [
    "y_predict_sem_outlier"
   ]
  },
  {
   "cell_type": "code",
   "execution_count": 40,
   "id": "dc21e007",
   "metadata": {},
   "outputs": [
    {
     "data": {
      "image/png": "[encoded data removed]",
      "text/plain": [
       "<Figure size 700x500 with 1 Axes>"
      ]
     },
     "metadata": {},
     "output_type": "display_data"
    }
   ],
   "source": [
    "fig, ax = plt.subplots(figsize=(7,5))\n",
    "\n",
    "sns.boxplot(x=y_expected_without_outlier);"
   ]
  },
  {
   "cell_type": "markdown",
   "id": "acfabe25",
   "metadata": {},
   "source": [
    "### R2 e R2 Ajustado"
   ]
  },
  {
   "cell_type": "code",
   "execution_count": 41,
   "id": "b6836bae",
   "metadata": {},
   "outputs": [
    {
     "name": "stdout",
     "output_type": "stream",
     "text": [
      "R2 WITH outliers: 0.7249727105572581\n",
      "R2 WITHOUT outliers: 0.6796740676845554\n"
     ]
    }
   ],
   "source": [
    "r2 = r2_score(y_expected, y_predict)\n",
    "r2_without_outliers = r2_score(y_expected_without_outlier, y_predict_without_outlier)\n",
    "\n",
    "print('R2 WITH outliers:', r2)\n",
    "print('R2 WITHOUT outliers:', r2_without_outliers)"
   ]
  },
  {
   "cell_type": "code",
   "execution_count": 42,
   "id": "77a52e3d",
   "metadata": {},
   "outputs": [],
   "source": [
    "def adjusted_r2(y_expected, y_predict, X_train):\n",
    "  R2 = r2_score(y_expected, y_predict)\n",
    "  N = len(y_expected)\n",
    "  p = X_train.shape[1]\n",
    "\n",
    "  adjusted_r2 = (1 - ((1 - R2) * (N - 1)) / (N - p - 1))\n",
    "  return r2_ajustado"
   ]
  },
  {
   "cell_type": "code",
   "execution_count": 44,
   "id": "8b8c4d8e",
   "metadata": {},
   "outputs": [
    {
     "ename": "TypeError",
     "evalue": "'numpy.float64' object is not callable",
     "output_type": "error",
     "traceback": [
      "\u001b[0;31m---------------------------------------------------------------------------\u001b[0m",
      "\u001b[0;31mTypeError\u001b[0m                                 Traceback (most recent call last)",
      "\u001b[0;32m/var/folders/vb/yxjjx1m94n93ty4t50m8f2b40000gn/T/ipykernel_77581/198800744.py\u001b[0m in \u001b[0;36m<module>\u001b[0;34m\u001b[0m\n\u001b[0;32m----> 1\u001b[0;31m \u001b[0madjusted_r2\u001b[0m \u001b[0;34m=\u001b[0m \u001b[0madjusted_r2\u001b[0m\u001b[0;34m(\u001b[0m\u001b[0my_expected\u001b[0m\u001b[0;34m,\u001b[0m \u001b[0my_predict\u001b[0m\u001b[0;34m,\u001b[0m \u001b[0mX_train\u001b[0m\u001b[0;34m)\u001b[0m\u001b[0;34m\u001b[0m\u001b[0;34m\u001b[0m\u001b[0m\n\u001b[0m\u001b[1;32m      2\u001b[0m \u001b[0madjusted_r2_withou_outliers\u001b[0m \u001b[0;34m=\u001b[0m \u001b[0madjusted_r2\u001b[0m\u001b[0;34m(\u001b[0m\u001b[0my_expected_withou_outlier\u001b[0m\u001b[0;34m,\u001b[0m \u001b[0my_predict_without_outlier\u001b[0m\u001b[0;34m,\u001b[0m \u001b[0mX_train\u001b[0m\u001b[0;34m)\u001b[0m\u001b[0;34m\u001b[0m\u001b[0;34m\u001b[0m\u001b[0m\n\u001b[1;32m      3\u001b[0m \u001b[0;34m\u001b[0m\u001b[0m\n\u001b[1;32m      4\u001b[0m \u001b[0mprint\u001b[0m\u001b[0;34m(\u001b[0m\u001b[0;34m'R2 Ajustado COM outliers:'\u001b[0m\u001b[0;34m,\u001b[0m \u001b[0madjusted_r2\u001b[0m\u001b[0;34m)\u001b[0m\u001b[0;34m\u001b[0m\u001b[0;34m\u001b[0m\u001b[0m\n\u001b[1;32m      5\u001b[0m \u001b[0mprint\u001b[0m\u001b[0;34m(\u001b[0m\u001b[0;34m'R2 Ajustado SEM outliers:'\u001b[0m\u001b[0;34m,\u001b[0m \u001b[0madjusted_r2_withou_outliers\u001b[0m\u001b[0;34m)\u001b[0m\u001b[0;34m\u001b[0m\u001b[0;34m\u001b[0m\u001b[0m\n",
      "\u001b[0;31mTypeError\u001b[0m: 'numpy.float64' object is not callable"
     ]
    }
   ],
   "source": [
    "adjusted_r2 = adjusted_r2(y_expected, y_predict, X_train)\n",
    "adjusted_r2_withou_outliers = adjusted_r2(y_expected_withou_outlier, y_predict_without_outlier, X_train)\n",
    "\n",
    "print('R2 Ajustado COM outliers:', adjusted_r2)\n",
    "print('R2 Ajustado SEM outliers:', adjusted_r2_withou_outliers)"
   ]
  },
  {
   "cell_type": "code",
   "execution_count": null,
   "id": "b04ce730",
   "metadata": {},
   "outputs": [],
   "source": []
  }
 ],
 "metadata": {
  "kernelspec": {
   "display_name": "Python 3 (ipykernel)",
   "language": "python",
   "name": "python3"
  },
  "language_info": {
   "codemirror_mode": {
    "name": "ipython",
    "version": 3
   },
   "file_extension": ".py",
   "mimetype": "text/x-python",
   "name": "python",
   "nbconvert_exporter": "python",
   "pygments_lexer": "ipython3",
   "version": "3.9.13"
  }
 },
 "nbformat": 4,
 "nbformat_minor": 5
}
