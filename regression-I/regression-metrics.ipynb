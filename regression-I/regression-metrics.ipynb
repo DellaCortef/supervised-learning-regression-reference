{
 "cells": [
  {
   "cell_type": "markdown",
   "id": "1eb7614c",
   "metadata": {},
   "source": [
    "# Regression\n",
    "\n",
    "In regression, we want to predict a continuous value, such as the price of a property, the height of a person, the revenue of a game in the first month of release, etc.\n",
    "\n",
    "Basically all the techniques studied so far, such as cross-validation, hyperparameter optimization and feature selection, also work for regression problems. \n",
    "\n",
    "The big difference between regression and classification is the type of data we want to predict and the metrics used to evaluate performance.\n",
    "\n",
    "We will use the house price prediction dataset available on kaggle ([House Prices: Advanced Regression Techniques](https://www.kaggle.com/c/house-prices-advanced-regression-techniques/))."
   ]
  },
  {
   "cell_type": "code",
   "execution_count": 55,
   "id": "55231435",
   "metadata": {},
   "outputs": [],
   "source": [
    "# Import standard libs\n",
    "import numpy as np\n",
    "import pandas as pd\n",
    "\n",
    "# Dataviz libs\n",
    "import matplotlib.pyplot as plt\n",
    "import seaborn as sns\n",
    "\n",
    "# odel selection libs\n",
    "from sklearn.model_selection import train_test_split\n",
    "\n",
    "# Feature engine libs\n",
    "from feature_engine.imputation import ArbitraryNumberImputer\n",
    "from feature_engine.wrappers import SklearnTransformerWrapper\n",
    "\n",
    "# Pipeline libs\n",
    "from sklearn.pipeline import Pipeline\n",
    "from sklearn.preprocessing import StandardScaler\n",
    "\n",
    "# Machine learning libs\n",
    "from sklearn.linear_model import LinearRegression\n",
    "\n",
    "# Machine Learning metrics\n",
    "from sklearn.metrics import r2_score\n",
    "from sklearn.metrics import max_error\n",
    "from sklearn.metrics import mean_squared_error\n",
    "from sklearn.metrics import mean_squared_error\n",
    "from sklearn.metrics import mean_absolute_error\n",
    "from sklearn.metrics import median_absolute_error\n",
    "from sklearn.metrics import mean_squared_log_error\n",
    "from sklearn.metrics import mean_absolute_percentage_error"
   ]
  },
  {
   "cell_type": "code",
   "execution_count": 2,
   "id": "94f95a58",
   "metadata": {},
   "outputs": [
    {
     "data": {
      "text/html": [
       "<div>\n",
       "<style scoped>\n",
       "    .dataframe tbody tr th:only-of-type {\n",
       "        vertical-align: middle;\n",
       "    }\n",
       "\n",
       "    .dataframe tbody tr th {\n",
       "        vertical-align: top;\n",
       "    }\n",
       "\n",
       "    .dataframe thead th {\n",
       "        text-align: right;\n",
       "    }\n",
       "</style>\n",
       "<table border=\"1\" class=\"dataframe\">\n",
       "  <thead>\n",
       "    <tr style=\"text-align: right;\">\n",
       "      <th></th>\n",
       "      <th>zoneamento</th>\n",
       "      <th>tam_terreno</th>\n",
       "      <th>forma_terreno</th>\n",
       "      <th>qualidade_geral</th>\n",
       "      <th>condicao</th>\n",
       "      <th>ano_construcao</th>\n",
       "      <th>qualidade_aquecedor</th>\n",
       "      <th>ar_condicionado</th>\n",
       "      <th>tam_primeiro_andar</th>\n",
       "      <th>tam_segundo_andar</th>\n",
       "      <th>...</th>\n",
       "      <th>qtde_banheiros</th>\n",
       "      <th>qtde_comodos</th>\n",
       "      <th>qtde_lareiras</th>\n",
       "      <th>qtde_carros_garagem</th>\n",
       "      <th>tam_garagem</th>\n",
       "      <th>tam_piscina</th>\n",
       "      <th>qualidade_piscina</th>\n",
       "      <th>mes_venda</th>\n",
       "      <th>ano_venda</th>\n",
       "      <th>preco</th>\n",
       "    </tr>\n",
       "  </thead>\n",
       "  <tbody>\n",
       "    <tr>\n",
       "      <th>0</th>\n",
       "      <td>RL</td>\n",
       "      <td>785.03035</td>\n",
       "      <td>Reg</td>\n",
       "      <td>7</td>\n",
       "      <td>5</td>\n",
       "      <td>2003</td>\n",
       "      <td>Ex</td>\n",
       "      <td>Y</td>\n",
       "      <td>79.524968</td>\n",
       "      <td>79.339162</td>\n",
       "      <td>...</td>\n",
       "      <td>30</td>\n",
       "      <td>8</td>\n",
       "      <td>0</td>\n",
       "      <td>2</td>\n",
       "      <td>50.910844</td>\n",
       "      <td>0.0</td>\n",
       "      <td>NotAv</td>\n",
       "      <td>2</td>\n",
       "      <td>2008</td>\n",
       "      <td>8.465100e+05</td>\n",
       "    </tr>\n",
       "    <tr>\n",
       "      <th>1</th>\n",
       "      <td>RL</td>\n",
       "      <td>891.86880</td>\n",
       "      <td>Reg</td>\n",
       "      <td>6</td>\n",
       "      <td>8</td>\n",
       "      <td>1976</td>\n",
       "      <td>Ex</td>\n",
       "      <td>Y</td>\n",
       "      <td>117.243586</td>\n",
       "      <td>0.000000</td>\n",
       "      <td>...</td>\n",
       "      <td>2</td>\n",
       "      <td>6</td>\n",
       "      <td>1</td>\n",
       "      <td>2</td>\n",
       "      <td>42.735380</td>\n",
       "      <td>0.0</td>\n",
       "      <td>NotAv</td>\n",
       "      <td>5</td>\n",
       "      <td>2007</td>\n",
       "      <td>7.344784e+05</td>\n",
       "    </tr>\n",
       "    <tr>\n",
       "      <th>2</th>\n",
       "      <td>RL</td>\n",
       "      <td>1045.15875</td>\n",
       "      <td>IR1</td>\n",
       "      <td>7</td>\n",
       "      <td>5</td>\n",
       "      <td>2001</td>\n",
       "      <td>Ex</td>\n",
       "      <td>Y</td>\n",
       "      <td>85.470760</td>\n",
       "      <td>80.453998</td>\n",
       "      <td>...</td>\n",
       "      <td>2</td>\n",
       "      <td>6</td>\n",
       "      <td>1</td>\n",
       "      <td>2</td>\n",
       "      <td>56.485024</td>\n",
       "      <td>0.0</td>\n",
       "      <td>NotAv</td>\n",
       "      <td>9</td>\n",
       "      <td>2008</td>\n",
       "      <td>9.074100e+05</td>\n",
       "    </tr>\n",
       "    <tr>\n",
       "      <th>3</th>\n",
       "      <td>RL</td>\n",
       "      <td>887.22365</td>\n",
       "      <td>IR1</td>\n",
       "      <td>7</td>\n",
       "      <td>5</td>\n",
       "      <td>1915</td>\n",
       "      <td>Gd</td>\n",
       "      <td>Y</td>\n",
       "      <td>89.279783</td>\n",
       "      <td>70.234668</td>\n",
       "      <td>...</td>\n",
       "      <td>1</td>\n",
       "      <td>7</td>\n",
       "      <td>1</td>\n",
       "      <td>3</td>\n",
       "      <td>59.643726</td>\n",
       "      <td>0.0</td>\n",
       "      <td>NotAv</td>\n",
       "      <td>2</td>\n",
       "      <td>2006</td>\n",
       "      <td>5.684000e+05</td>\n",
       "    </tr>\n",
       "    <tr>\n",
       "      <th>4</th>\n",
       "      <td>RL</td>\n",
       "      <td>1324.79678</td>\n",
       "      <td>IR1</td>\n",
       "      <td>8</td>\n",
       "      <td>5</td>\n",
       "      <td>2000</td>\n",
       "      <td>Ex</td>\n",
       "      <td>Y</td>\n",
       "      <td>106.373935</td>\n",
       "      <td>97.826859</td>\n",
       "      <td>...</td>\n",
       "      <td>2</td>\n",
       "      <td>9</td>\n",
       "      <td>1</td>\n",
       "      <td>3</td>\n",
       "      <td>77.666908</td>\n",
       "      <td>0.0</td>\n",
       "      <td>NotAv</td>\n",
       "      <td>12</td>\n",
       "      <td>2008</td>\n",
       "      <td>1.015000e+06</td>\n",
       "    </tr>\n",
       "  </tbody>\n",
       "</table>\n",
       "<p>5 rows × 23 columns</p>\n",
       "</div>"
      ],
      "text/plain": [
       "  zoneamento  tam_terreno forma_terreno  qualidade_geral  condicao  \\\n",
       "0         RL    785.03035           Reg                7         5   \n",
       "1         RL    891.86880           Reg                6         8   \n",
       "2         RL   1045.15875           IR1                7         5   \n",
       "3         RL    887.22365           IR1                7         5   \n",
       "4         RL   1324.79678           IR1                8         5   \n",
       "\n",
       "   ano_construcao qualidade_aquecedor ar_condicionado  tam_primeiro_andar  \\\n",
       "0            2003                  Ex               Y           79.524968   \n",
       "1            1976                  Ex               Y          117.243586   \n",
       "2            2001                  Ex               Y           85.470760   \n",
       "3            1915                  Gd               Y           89.279783   \n",
       "4            2000                  Ex               Y          106.373935   \n",
       "\n",
       "   tam_segundo_andar  ...  qtde_banheiros  qtde_comodos qtde_lareiras  \\\n",
       "0          79.339162  ...              30             8             0   \n",
       "1           0.000000  ...               2             6             1   \n",
       "2          80.453998  ...               2             6             1   \n",
       "3          70.234668  ...               1             7             1   \n",
       "4          97.826859  ...               2             9             1   \n",
       "\n",
       "   qtde_carros_garagem  tam_garagem  tam_piscina  qualidade_piscina  \\\n",
       "0                    2    50.910844          0.0              NotAv   \n",
       "1                    2    42.735380          0.0              NotAv   \n",
       "2                    2    56.485024          0.0              NotAv   \n",
       "3                    3    59.643726          0.0              NotAv   \n",
       "4                    3    77.666908          0.0              NotAv   \n",
       "\n",
       "   mes_venda  ano_venda         preco  \n",
       "0          2       2008  8.465100e+05  \n",
       "1          5       2007  7.344784e+05  \n",
       "2          9       2008  9.074100e+05  \n",
       "3          2       2006  5.684000e+05  \n",
       "4         12       2008  1.015000e+06  \n",
       "\n",
       "[5 rows x 23 columns]"
      ]
     },
     "execution_count": 2,
     "metadata": {},
     "output_type": "execute_result"
    }
   ],
   "source": [
    "df = pd.read_csv('/Users/dellacorte/py-projects/data-science/supervised-learning-regression-reference/databases/house-price.csv', sep=\";\")\n",
    "df.head()"
   ]
  },
  {
   "cell_type": "code",
   "execution_count": 3,
   "id": "652ba686",
   "metadata": {},
   "outputs": [
    {
     "data": {
      "text/plain": [
       "(1458, 23)"
      ]
     },
     "execution_count": 3,
     "metadata": {},
     "output_type": "execute_result"
    }
   ],
   "source": [
    "df.shape"
   ]
  },
  {
   "cell_type": "code",
   "execution_count": 4,
   "id": "66173968",
   "metadata": {},
   "outputs": [
    {
     "data": {
      "text/plain": [
       "Index(['zoneamento', 'tam_terreno', 'forma_terreno', 'qualidade_geral',\n",
       "       'condicao', 'ano_construcao', 'qualidade_aquecedor', 'ar_condicionado',\n",
       "       'tam_primeiro_andar', 'tam_segundo_andar', 'tam_sala_estar',\n",
       "       'qtde_quartos', 'qualidade_cozinha', 'qtde_banheiros', 'qtde_comodos',\n",
       "       'qtde_lareiras', 'qtde_carros_garagem', 'tam_garagem', 'tam_piscina',\n",
       "       'qualidade_piscina', 'mes_venda', 'ano_venda', 'preco'],\n",
       "      dtype='object')"
      ]
     },
     "execution_count": 4,
     "metadata": {},
     "output_type": "execute_result"
    }
   ],
   "source": [
    "df.columns"
   ]
  },
  {
   "cell_type": "code",
   "execution_count": 5,
   "id": "bf4e2fff",
   "metadata": {},
   "outputs": [
    {
     "name": "stdout",
     "output_type": "stream",
     "text": [
      "  zoning   land_size land_shape  overall_quality  condition  year_built  \\\n",
      "0     RL   785.03035        Reg                7          5        2003   \n",
      "1     RL   891.86880        Reg                6          8        1976   \n",
      "2     RL  1045.15875        IR1                7          5        2001   \n",
      "3     RL   887.22365        IR1                7          5        1915   \n",
      "4     RL  1324.79678        IR1                8          5        2000   \n",
      "\n",
      "  heater_quality air_conditioning  first_floor_size  second_floor_size  ...  \\\n",
      "0             Ex                Y         79.524968          79.339162  ...   \n",
      "1             Ex                Y        117.243586           0.000000  ...   \n",
      "2             Ex                Y         85.470760          80.453998  ...   \n",
      "3             Gd                Y         89.279783          70.234668  ...   \n",
      "4             Ex                Y        106.373935          97.826859  ...   \n",
      "\n",
      "   number_of_bathrooms  number_of_rooms number_of_fireplaces  garage_capacity  \\\n",
      "0                   30                8                    0                2   \n",
      "1                    2                6                    1                2   \n",
      "2                    2                6                    1                2   \n",
      "3                    1                7                    1                3   \n",
      "4                    2                9                    1                3   \n",
      "\n",
      "   garage_size  pool_size  pool_quality  sale_month  sale_year         price  \n",
      "0    50.910844        0.0         NotAv           2       2008  8.465100e+05  \n",
      "1    42.735380        0.0         NotAv           5       2007  7.344784e+05  \n",
      "2    56.485024        0.0         NotAv           9       2008  9.074100e+05  \n",
      "3    59.643726        0.0         NotAv           2       2006  5.684000e+05  \n",
      "4    77.666908        0.0         NotAv          12       2008  1.015000e+06  \n",
      "\n",
      "[5 rows x 23 columns]\n"
     ]
    }
   ],
   "source": [
    "# Changing to en-us column names\n",
    "df.rename(columns={\n",
    "    'zoneamento': 'zoning',\n",
    "    'tam_terreno': 'land_size',\n",
    "    'forma_terreno': 'land_shape',\n",
    "    'qualidade_geral': 'overall_quality',\n",
    "    'condicao': 'condition',\n",
    "    'ano_construcao': 'year_built',\n",
    "    'qualidade_aquecedor': 'heater_quality',\n",
    "    'ar_condicionado': 'air_conditioning',\n",
    "    'tam_primeiro_andar': 'first_floor_size',\n",
    "    'tam_segundo_andar': 'second_floor_size',\n",
    "    'tam_sala_estar': 'living_room_size',\n",
    "    'qtde_quartos': 'number_of_bedrooms',\n",
    "    'qualidade_cozinha': 'kitchen_quality',\n",
    "    'qtde_banheiros': 'number_of_bathrooms',\n",
    "    'qtde_comodos': 'number_of_rooms',\n",
    "    'qtde_lareiras': 'number_of_fireplaces',\n",
    "    'qtde_carros_garagem': 'garage_capacity',\n",
    "    'tam_garagem': 'garage_size',\n",
    "    'tam_piscina': 'pool_size',\n",
    "    'qualidade_piscina': 'pool_quality',\n",
    "    'mes_venda': 'sale_month',\n",
    "    'ano_venda': 'sale_year',\n",
    "    'preco': 'price'\n",
    "}, inplace=True)\n",
    "\n",
    "# Display the renamed DataFrame\n",
    "print(df.head())"
   ]
  },
  {
   "cell_type": "code",
   "execution_count": 6,
   "id": "30ec1708",
   "metadata": {},
   "outputs": [
    {
     "data": {
      "text/html": [
       "<div>\n",
       "<style scoped>\n",
       "    .dataframe tbody tr th:only-of-type {\n",
       "        vertical-align: middle;\n",
       "    }\n",
       "\n",
       "    .dataframe tbody tr th {\n",
       "        vertical-align: top;\n",
       "    }\n",
       "\n",
       "    .dataframe thead th {\n",
       "        text-align: right;\n",
       "    }\n",
       "</style>\n",
       "<table border=\"1\" class=\"dataframe\">\n",
       "  <thead>\n",
       "    <tr style=\"text-align: right;\">\n",
       "      <th></th>\n",
       "      <th>zoning</th>\n",
       "      <th>land_size</th>\n",
       "      <th>land_shape</th>\n",
       "      <th>overall_quality</th>\n",
       "      <th>condition</th>\n",
       "      <th>year_built</th>\n",
       "      <th>heater_quality</th>\n",
       "      <th>air_conditioning</th>\n",
       "      <th>first_floor_size</th>\n",
       "      <th>second_floor_size</th>\n",
       "      <th>...</th>\n",
       "      <th>number_of_bathrooms</th>\n",
       "      <th>number_of_rooms</th>\n",
       "      <th>number_of_fireplaces</th>\n",
       "      <th>garage_capacity</th>\n",
       "      <th>garage_size</th>\n",
       "      <th>pool_size</th>\n",
       "      <th>pool_quality</th>\n",
       "      <th>sale_month</th>\n",
       "      <th>sale_year</th>\n",
       "      <th>price</th>\n",
       "    </tr>\n",
       "  </thead>\n",
       "  <tbody>\n",
       "    <tr>\n",
       "      <th>0</th>\n",
       "      <td>RL</td>\n",
       "      <td>785.03035</td>\n",
       "      <td>Reg</td>\n",
       "      <td>7</td>\n",
       "      <td>5</td>\n",
       "      <td>2003</td>\n",
       "      <td>Ex</td>\n",
       "      <td>Y</td>\n",
       "      <td>79.524968</td>\n",
       "      <td>79.339162</td>\n",
       "      <td>...</td>\n",
       "      <td>30</td>\n",
       "      <td>8</td>\n",
       "      <td>0</td>\n",
       "      <td>2</td>\n",
       "      <td>50.910844</td>\n",
       "      <td>0.0</td>\n",
       "      <td>NotAv</td>\n",
       "      <td>2</td>\n",
       "      <td>2008</td>\n",
       "      <td>8.465100e+05</td>\n",
       "    </tr>\n",
       "    <tr>\n",
       "      <th>1</th>\n",
       "      <td>RL</td>\n",
       "      <td>891.86880</td>\n",
       "      <td>Reg</td>\n",
       "      <td>6</td>\n",
       "      <td>8</td>\n",
       "      <td>1976</td>\n",
       "      <td>Ex</td>\n",
       "      <td>Y</td>\n",
       "      <td>117.243586</td>\n",
       "      <td>0.000000</td>\n",
       "      <td>...</td>\n",
       "      <td>2</td>\n",
       "      <td>6</td>\n",
       "      <td>1</td>\n",
       "      <td>2</td>\n",
       "      <td>42.735380</td>\n",
       "      <td>0.0</td>\n",
       "      <td>NotAv</td>\n",
       "      <td>5</td>\n",
       "      <td>2007</td>\n",
       "      <td>7.344784e+05</td>\n",
       "    </tr>\n",
       "    <tr>\n",
       "      <th>2</th>\n",
       "      <td>RL</td>\n",
       "      <td>1045.15875</td>\n",
       "      <td>IR1</td>\n",
       "      <td>7</td>\n",
       "      <td>5</td>\n",
       "      <td>2001</td>\n",
       "      <td>Ex</td>\n",
       "      <td>Y</td>\n",
       "      <td>85.470760</td>\n",
       "      <td>80.453998</td>\n",
       "      <td>...</td>\n",
       "      <td>2</td>\n",
       "      <td>6</td>\n",
       "      <td>1</td>\n",
       "      <td>2</td>\n",
       "      <td>56.485024</td>\n",
       "      <td>0.0</td>\n",
       "      <td>NotAv</td>\n",
       "      <td>9</td>\n",
       "      <td>2008</td>\n",
       "      <td>9.074100e+05</td>\n",
       "    </tr>\n",
       "    <tr>\n",
       "      <th>3</th>\n",
       "      <td>RL</td>\n",
       "      <td>887.22365</td>\n",
       "      <td>IR1</td>\n",
       "      <td>7</td>\n",
       "      <td>5</td>\n",
       "      <td>1915</td>\n",
       "      <td>Gd</td>\n",
       "      <td>Y</td>\n",
       "      <td>89.279783</td>\n",
       "      <td>70.234668</td>\n",
       "      <td>...</td>\n",
       "      <td>1</td>\n",
       "      <td>7</td>\n",
       "      <td>1</td>\n",
       "      <td>3</td>\n",
       "      <td>59.643726</td>\n",
       "      <td>0.0</td>\n",
       "      <td>NotAv</td>\n",
       "      <td>2</td>\n",
       "      <td>2006</td>\n",
       "      <td>5.684000e+05</td>\n",
       "    </tr>\n",
       "    <tr>\n",
       "      <th>4</th>\n",
       "      <td>RL</td>\n",
       "      <td>1324.79678</td>\n",
       "      <td>IR1</td>\n",
       "      <td>8</td>\n",
       "      <td>5</td>\n",
       "      <td>2000</td>\n",
       "      <td>Ex</td>\n",
       "      <td>Y</td>\n",
       "      <td>106.373935</td>\n",
       "      <td>97.826859</td>\n",
       "      <td>...</td>\n",
       "      <td>2</td>\n",
       "      <td>9</td>\n",
       "      <td>1</td>\n",
       "      <td>3</td>\n",
       "      <td>77.666908</td>\n",
       "      <td>0.0</td>\n",
       "      <td>NotAv</td>\n",
       "      <td>12</td>\n",
       "      <td>2008</td>\n",
       "      <td>1.015000e+06</td>\n",
       "    </tr>\n",
       "  </tbody>\n",
       "</table>\n",
       "<p>5 rows × 23 columns</p>\n",
       "</div>"
      ],
      "text/plain": [
       "  zoning   land_size land_shape  overall_quality  condition  year_built  \\\n",
       "0     RL   785.03035        Reg                7          5        2003   \n",
       "1     RL   891.86880        Reg                6          8        1976   \n",
       "2     RL  1045.15875        IR1                7          5        2001   \n",
       "3     RL   887.22365        IR1                7          5        1915   \n",
       "4     RL  1324.79678        IR1                8          5        2000   \n",
       "\n",
       "  heater_quality air_conditioning  first_floor_size  second_floor_size  ...  \\\n",
       "0             Ex                Y         79.524968          79.339162  ...   \n",
       "1             Ex                Y        117.243586           0.000000  ...   \n",
       "2             Ex                Y         85.470760          80.453998  ...   \n",
       "3             Gd                Y         89.279783          70.234668  ...   \n",
       "4             Ex                Y        106.373935          97.826859  ...   \n",
       "\n",
       "   number_of_bathrooms  number_of_rooms number_of_fireplaces  garage_capacity  \\\n",
       "0                   30                8                    0                2   \n",
       "1                    2                6                    1                2   \n",
       "2                    2                6                    1                2   \n",
       "3                    1                7                    1                3   \n",
       "4                    2                9                    1                3   \n",
       "\n",
       "   garage_size  pool_size  pool_quality  sale_month  sale_year         price  \n",
       "0    50.910844        0.0         NotAv           2       2008  8.465100e+05  \n",
       "1    42.735380        0.0         NotAv           5       2007  7.344784e+05  \n",
       "2    56.485024        0.0         NotAv           9       2008  9.074100e+05  \n",
       "3    59.643726        0.0         NotAv           2       2006  5.684000e+05  \n",
       "4    77.666908        0.0         NotAv          12       2008  1.015000e+06  \n",
       "\n",
       "[5 rows x 23 columns]"
      ]
     },
     "execution_count": 6,
     "metadata": {},
     "output_type": "execute_result"
    }
   ],
   "source": [
    "df.head()"
   ]
  },
  {
   "cell_type": "code",
   "execution_count": 7,
   "id": "d497cf6a",
   "metadata": {},
   "outputs": [
    {
     "data": {
      "text/plain": [
       "zoning                   object\n",
       "land_size               float64\n",
       "land_shape               object\n",
       "overall_quality           int64\n",
       "condition                 int64\n",
       "year_built                int64\n",
       "heater_quality           object\n",
       "air_conditioning         object\n",
       "first_floor_size        float64\n",
       "second_floor_size       float64\n",
       "living_room_size        float64\n",
       "number_of_bedrooms        int64\n",
       "kitchen_quality          object\n",
       "number_of_bathrooms       int64\n",
       "number_of_rooms           int64\n",
       "number_of_fireplaces      int64\n",
       "garage_capacity           int64\n",
       "garage_size             float64\n",
       "pool_size               float64\n",
       "pool_quality             object\n",
       "sale_month                int64\n",
       "sale_year                 int64\n",
       "price                   float64\n",
       "dtype: object"
      ]
     },
     "execution_count": 7,
     "metadata": {},
     "output_type": "execute_result"
    }
   ],
   "source": [
    "df.dtypes"
   ]
  },
  {
   "cell_type": "code",
   "execution_count": 8,
   "id": "27495ad7",
   "metadata": {},
   "outputs": [],
   "source": [
    "# selecting target column\n",
    "target = 'price'\n",
    "\n",
    "# building a list with the names of only categorical variables\n",
    "# select_dtypes (include='object') list of variables of type object\n",
    "cat_vars = df.select_dtypes(include='object').columns.to_list()\n",
    "\n",
    "# list only the names of numeric variables\n",
    "# using list comprehension\n",
    "num_vars = [col for col in df.columns if col not in cat_vars + ['Id', target]]\n",
    "\n",
    "'''\n",
    "# using for inside for\n",
    "# produces the same response as the previous code\n",
    "num_vars = []\n",
    "for col in df.columns:\n",
    "  if col not in cat_vars + ['Id', target]:\n",
    "    num_vars.append(col)\n",
    "'''\n",
    "\n",
    "# separating the base into training and testing\n",
    "# at this point we will only use numeric variables\n",
    "X = df.filter(num_vars).copy()\n",
    "y = df['price'].copy()\n",
    "\n",
    "X_train, X_test, y_train, y_test = train_test_split(X, y, train_size=0.8, random_state=30)"
   ]
  },
  {
   "cell_type": "code",
   "execution_count": 9,
   "id": "b1e448b4",
   "metadata": {},
   "outputs": [
    {
     "data": {
      "text/plain": [
       "482    537950.0\n",
       "403    609000.0\n",
       "161    418992.0\n",
       "109    730800.0\n",
       "814    556220.0\n",
       "Name: price, dtype: float64"
      ]
     },
     "execution_count": 9,
     "metadata": {},
     "output_type": "execute_result"
    }
   ],
   "source": [
    "y_train.head()"
   ]
  },
  {
   "cell_type": "code",
   "execution_count": 10,
   "id": "ada66b06",
   "metadata": {},
   "outputs": [
    {
     "data": {
      "text/html": [
       "<div>\n",
       "<style scoped>\n",
       "    .dataframe tbody tr th:only-of-type {\n",
       "        vertical-align: middle;\n",
       "    }\n",
       "\n",
       "    .dataframe tbody tr th {\n",
       "        vertical-align: top;\n",
       "    }\n",
       "\n",
       "    .dataframe thead th {\n",
       "        text-align: right;\n",
       "    }\n",
       "</style>\n",
       "<table border=\"1\" class=\"dataframe\">\n",
       "  <thead>\n",
       "    <tr style=\"text-align: right;\">\n",
       "      <th></th>\n",
       "      <th>land_size</th>\n",
       "      <th>overall_quality</th>\n",
       "      <th>condition</th>\n",
       "      <th>year_built</th>\n",
       "      <th>first_floor_size</th>\n",
       "      <th>second_floor_size</th>\n",
       "      <th>living_room_size</th>\n",
       "      <th>number_of_bedrooms</th>\n",
       "      <th>number_of_bathrooms</th>\n",
       "      <th>number_of_rooms</th>\n",
       "      <th>number_of_fireplaces</th>\n",
       "      <th>garage_capacity</th>\n",
       "      <th>garage_size</th>\n",
       "      <th>pool_size</th>\n",
       "      <th>sale_month</th>\n",
       "      <th>sale_year</th>\n",
       "    </tr>\n",
       "  </thead>\n",
       "  <tbody>\n",
       "    <tr>\n",
       "      <th>482</th>\n",
       "      <td>720.741474</td>\n",
       "      <td>5</td>\n",
       "      <td>7</td>\n",
       "      <td>1962</td>\n",
       "      <td>92.810097</td>\n",
       "      <td>0.000000</td>\n",
       "      <td>92.810097</td>\n",
       "      <td>3</td>\n",
       "      <td>1</td>\n",
       "      <td>6</td>\n",
       "      <td>0</td>\n",
       "      <td>1</td>\n",
       "      <td>24.526392</td>\n",
       "      <td>0.0</td>\n",
       "      <td>3</td>\n",
       "      <td>2007</td>\n",
       "    </tr>\n",
       "    <tr>\n",
       "      <th>403</th>\n",
       "      <td>928.193873</td>\n",
       "      <td>4</td>\n",
       "      <td>4</td>\n",
       "      <td>1976</td>\n",
       "      <td>150.502860</td>\n",
       "      <td>0.000000</td>\n",
       "      <td>150.502860</td>\n",
       "      <td>3</td>\n",
       "      <td>2</td>\n",
       "      <td>8</td>\n",
       "      <td>1</td>\n",
       "      <td>2</td>\n",
       "      <td>45.522470</td>\n",
       "      <td>0.0</td>\n",
       "      <td>6</td>\n",
       "      <td>2009</td>\n",
       "    </tr>\n",
       "    <tr>\n",
       "      <th>161</th>\n",
       "      <td>510.966500</td>\n",
       "      <td>4</td>\n",
       "      <td>6</td>\n",
       "      <td>1956</td>\n",
       "      <td>81.940446</td>\n",
       "      <td>0.000000</td>\n",
       "      <td>81.940446</td>\n",
       "      <td>1</td>\n",
       "      <td>1</td>\n",
       "      <td>4</td>\n",
       "      <td>0</td>\n",
       "      <td>0</td>\n",
       "      <td>0.000000</td>\n",
       "      <td>0.0</td>\n",
       "      <td>4</td>\n",
       "      <td>2007</td>\n",
       "    </tr>\n",
       "    <tr>\n",
       "      <th>109</th>\n",
       "      <td>719.998250</td>\n",
       "      <td>7</td>\n",
       "      <td>5</td>\n",
       "      <td>2000</td>\n",
       "      <td>71.906922</td>\n",
       "      <td>60.944368</td>\n",
       "      <td>132.851290</td>\n",
       "      <td>3</td>\n",
       "      <td>2</td>\n",
       "      <td>7</td>\n",
       "      <td>1</td>\n",
       "      <td>2</td>\n",
       "      <td>37.161200</td>\n",
       "      <td>0.0</td>\n",
       "      <td>4</td>\n",
       "      <td>2010</td>\n",
       "    </tr>\n",
       "    <tr>\n",
       "      <th>814</th>\n",
       "      <td>1061.416775</td>\n",
       "      <td>5</td>\n",
       "      <td>6</td>\n",
       "      <td>1954</td>\n",
       "      <td>93.646224</td>\n",
       "      <td>0.000000</td>\n",
       "      <td>93.646224</td>\n",
       "      <td>2</td>\n",
       "      <td>1</td>\n",
       "      <td>4</td>\n",
       "      <td>1</td>\n",
       "      <td>1</td>\n",
       "      <td>25.548325</td>\n",
       "      <td>0.0</td>\n",
       "      <td>7</td>\n",
       "      <td>2006</td>\n",
       "    </tr>\n",
       "  </tbody>\n",
       "</table>\n",
       "</div>"
      ],
      "text/plain": [
       "       land_size  overall_quality  condition  year_built  first_floor_size  \\\n",
       "482   720.741474                5          7        1962         92.810097   \n",
       "403   928.193873                4          4        1976        150.502860   \n",
       "161   510.966500                4          6        1956         81.940446   \n",
       "109   719.998250                7          5        2000         71.906922   \n",
       "814  1061.416775                5          6        1954         93.646224   \n",
       "\n",
       "     second_floor_size  living_room_size  number_of_bedrooms  \\\n",
       "482           0.000000         92.810097                   3   \n",
       "403           0.000000        150.502860                   3   \n",
       "161           0.000000         81.940446                   1   \n",
       "109          60.944368        132.851290                   3   \n",
       "814           0.000000         93.646224                   2   \n",
       "\n",
       "     number_of_bathrooms  number_of_rooms  number_of_fireplaces  \\\n",
       "482                    1                6                     0   \n",
       "403                    2                8                     1   \n",
       "161                    1                4                     0   \n",
       "109                    2                7                     1   \n",
       "814                    1                4                     1   \n",
       "\n",
       "     garage_capacity  garage_size  pool_size  sale_month  sale_year  \n",
       "482                1    24.526392        0.0           3       2007  \n",
       "403                2    45.522470        0.0           6       2009  \n",
       "161                0     0.000000        0.0           4       2007  \n",
       "109                2    37.161200        0.0           4       2010  \n",
       "814                1    25.548325        0.0           7       2006  "
      ]
     },
     "execution_count": 10,
     "metadata": {},
     "output_type": "execute_result"
    }
   ],
   "source": [
    "X_train.head()"
   ]
  },
  {
   "cell_type": "markdown",
   "id": "94d5e714",
   "metadata": {},
   "source": [
    "## Applying Multiple Linear Regression"
   ]
  },
  {
   "cell_type": "code",
   "execution_count": 11,
   "id": "34c7c073",
   "metadata": {},
   "outputs": [
    {
     "name": "stdout",
     "output_type": "stream",
     "text": [
      "Requirement already satisfied: feature-engine in /Users/dellacorte/opt/anaconda3/lib/python3.9/site-packages (1.3.0)\n",
      "Requirement already satisfied: numpy>=1.18.2 in /Users/dellacorte/opt/anaconda3/lib/python3.9/site-packages (from feature-engine) (1.23.0)\n",
      "Requirement already satisfied: pandas>=1.0.3 in /Users/dellacorte/opt/anaconda3/lib/python3.9/site-packages (from feature-engine) (2.2.3)\n",
      "Requirement already satisfied: scikit-learn>=1.0.0 in /Users/dellacorte/opt/anaconda3/lib/python3.9/site-packages (from feature-engine) (1.2.2)\n",
      "Requirement already satisfied: scipy>=1.4.1 in /Users/dellacorte/opt/anaconda3/lib/python3.9/site-packages (from feature-engine) (1.13.1)\n",
      "Requirement already satisfied: statsmodels>=0.11.1 in /Users/dellacorte/opt/anaconda3/lib/python3.9/site-packages (from feature-engine) (0.13.2)\n",
      "Requirement already satisfied: python-dateutil>=2.8.2 in /Users/dellacorte/opt/anaconda3/lib/python3.9/site-packages (from pandas>=1.0.3->feature-engine) (2.9.0.post0)\n",
      "Requirement already satisfied: pytz>=2020.1 in /Users/dellacorte/opt/anaconda3/lib/python3.9/site-packages (from pandas>=1.0.3->feature-engine) (2024.2)\n",
      "Requirement already satisfied: tzdata>=2022.7 in /Users/dellacorte/opt/anaconda3/lib/python3.9/site-packages (from pandas>=1.0.3->feature-engine) (2024.2)\n",
      "Requirement already satisfied: joblib>=1.1.1 in /Users/dellacorte/opt/anaconda3/lib/python3.9/site-packages (from scikit-learn>=1.0.0->feature-engine) (1.4.2)\n",
      "Requirement already satisfied: threadpoolctl>=2.0.0 in /Users/dellacorte/opt/anaconda3/lib/python3.9/site-packages (from scikit-learn>=1.0.0->feature-engine) (3.5.0)\n",
      "Requirement already satisfied: patsy>=0.5.2 in /Users/dellacorte/opt/anaconda3/lib/python3.9/site-packages (from statsmodels>=0.11.1->feature-engine) (0.5.2)\n",
      "Requirement already satisfied: packaging>=21.3 in /Users/dellacorte/opt/anaconda3/lib/python3.9/site-packages (from statsmodels>=0.11.1->feature-engine) (24.2)\n",
      "Requirement already satisfied: six in /Users/dellacorte/opt/anaconda3/lib/python3.9/site-packages (from patsy>=0.5.2->statsmodels>=0.11.1->feature-engine) (1.17.0)\n"
     ]
    }
   ],
   "source": [
    "# installing the feature-engine package\n",
    "!pip install feature-engine"
   ]
  },
  {
   "cell_type": "code",
   "execution_count": 12,
   "id": "8088b12c",
   "metadata": {},
   "outputs": [],
   "source": [
    "model = Pipeline(steps=[\n",
    "    ('numeric_imputer', ArbitraryNumberImputer(arbitrary_number=-999, variables=num_vars)),\n",
    "    ('scaler', SklearnTransformerWrapper(transformer=StandardScaler(), variables=num_vars)),\n",
    "    ('lr', LinearRegression())\n",
    "])"
   ]
  },
  {
   "cell_type": "code",
   "execution_count": 13,
   "id": "ff18e929",
   "metadata": {},
   "outputs": [],
   "source": [
    "# .fit will generate the machine learning model, calculate the recipe on the training basis\n",
    "model.fit(X_train, y_train)\n",
    "y_predict = model.predict(X_test)\n",
    "y_expected = y_test.copy()"
   ]
  },
  {
   "cell_type": "code",
   "execution_count": 14,
   "id": "84de931f",
   "metadata": {},
   "outputs": [
    {
     "data": {
      "text/plain": [
       "(1456    577027.5\n",
       " 791     913500.0\n",
       " 1082    761250.0\n",
       " Name: price, dtype: float64,\n",
       " array([479345.9573164 , 957375.94167732, 714520.17602057]))"
      ]
     },
     "execution_count": 14,
     "metadata": {},
     "output_type": "execute_result"
    }
   ],
   "source": [
    "y_expected[:3], y_predict[:3]"
   ]
  },
  {
   "cell_type": "code",
   "execution_count": 15,
   "id": "8138326c",
   "metadata": {},
   "outputs": [
    {
     "data": {
      "text/plain": [
       "738130.4797160049"
      ]
     },
     "execution_count": 15,
     "metadata": {},
     "output_type": "execute_result"
    }
   ],
   "source": [
    "# b0\n",
    "model[-1].intercept_"
   ]
  },
  {
   "cell_type": "code",
   "execution_count": 16,
   "id": "560173e6",
   "metadata": {},
   "outputs": [
    {
     "data": {
      "text/plain": [
       "array([ 27491.88367964, 109000.97062947,  28377.13358318,  65975.29887645,\n",
       "        58509.00658543,  24615.05743636,  84915.49045799, -29609.20357919,\n",
       "       -13180.23736347,  19950.79683075,  13769.5380539 ,  22268.12321766,\n",
       "        15731.15689468, -19071.02351735,  -1515.09217393,  -1849.52421253])"
      ]
     },
     "execution_count": 16,
     "metadata": {},
     "output_type": "execute_result"
    }
   ],
   "source": [
    "# b1, b2, b3, ..., bn\n",
    "model[-1].coef_"
   ]
  },
  {
   "cell_type": "code",
   "execution_count": 17,
   "id": "79f13fcd",
   "metadata": {},
   "outputs": [
    {
     "data": {
      "image/png": "[encoded data removed]",
      "text/plain": [
       "<Figure size 800x600 with 1 Axes>"
      ]
     },
     "metadata": {},
     "output_type": "display_data"
    }
   ],
   "source": [
    "fig, ax = plt.subplots(figsize=(8, 6))\n",
    "\n",
    "sns.regplot(x=y_expected, y=y_predict, ax=ax);"
   ]
  },
  {
   "cell_type": "markdown",
   "id": "541e4c6f",
   "metadata": {},
   "source": [
    "## Computing the Metrics\n",
    "- R2 and R2 Adjusted\n",
    "- MAE (Mean Absolute Error)\n",
    "- MSE (Mean Squared Error)\n",
    "- RMSE (Root Mean Squared Error)\n",
    "- RMSLE (Root Mean Squared Logarithmic Error)\n",
    "- Max Error\n",
    "- MedAE (Median Absolute Percentage Error)\n",
    "- MAPE (Mean Absolute Percentage Error)\n",
    "\n",
    "\n",
    "\n",
    "\n",
    "\n",
    "\n",
    "As we've seen, some of these metrics are affected by outliers, so let's test with and without outliers."
   ]
  },
  {
   "cell_type": "code",
   "execution_count": 18,
   "id": "968ee310",
   "metadata": {},
   "outputs": [
    {
     "data": {
      "image/png": "[encoded data removed]",
      "text/plain": [
       "<Figure size 1200x500 with 1 Axes>"
      ]
     },
     "metadata": {},
     "output_type": "display_data"
    }
   ],
   "source": [
    "fig, ax = plt.subplots(figsize=(12,5))\n",
    "\n",
    "sns.boxplot(x=y_expected);"
   ]
  },
  {
   "cell_type": "code",
   "execution_count": 19,
   "id": "b7064e1e",
   "metadata": {},
   "outputs": [],
   "source": [
    "# ensuring that both variables without outliers have the same dimension\n",
    "# Let's remove values greater than 340000\n",
    "y_expected_without_outlier = y_expected[y_expected < 1500000]\n",
    "y_predict_without_outlier = y_predict[y_expected < 1500000]"
   ]
  },
  {
   "cell_type": "code",
   "execution_count": 20,
   "id": "80634c6a",
   "metadata": {},
   "outputs": [
    {
     "data": {
      "text/plain": [
       "(283,)"
      ]
     },
     "execution_count": 20,
     "metadata": {},
     "output_type": "execute_result"
    }
   ],
   "source": [
    "y_expected_without_outlier.shape"
   ]
  },
  {
   "cell_type": "code",
   "execution_count": 22,
   "id": "028a713f",
   "metadata": {},
   "outputs": [
    {
     "data": {
      "text/plain": [
       "array([ 479345.9573164 ,  957375.94167732,  714520.17602057,\n",
       "        976408.73238267,  619187.71805646, 1098881.83377224,\n",
       "        548687.34069907,  -34809.79063088,  612979.81045686,\n",
       "       1058423.67473433,  329701.58773356,  539278.90134285,\n",
       "        745069.85835885,  541476.87793588, 1069954.87969626,\n",
       "        487055.99877107,  699244.21183221,  715744.97944197,\n",
       "        217823.0679412 ,  398662.87329824,  875194.99434479,\n",
       "        580648.41335261,  439811.49513459,  902662.08646666,\n",
       "        649882.35367414,  429929.97998509,  758386.47673459,\n",
       "        768371.00887331, 1099971.46999781,  514401.16014605,\n",
       "        287099.35224207,  981595.64430061,  497674.58892089,\n",
       "        560172.97180579,  240574.06451035,  737069.25007284,\n",
       "        626154.56307646,  755914.49180246,  495280.25192462,\n",
       "        909003.05291452,  666560.76998176,  687497.31648854,\n",
       "        446123.67075831,  969794.86260974,  385826.86609346,\n",
       "        442708.07045475,  938159.67944978,  538148.49163643,\n",
       "        916037.54762942,  719998.03269681,  743941.46044882,\n",
       "       1004219.22533664,  561267.89099473,  266730.77816935,\n",
       "        104174.06663769,  556585.51315619,  394051.24580047,\n",
       "        805880.74130899,  688092.73680979,  802778.17092811,\n",
       "        361533.36219289,  624305.93740469,  520360.13771184,\n",
       "        314039.56508638, 1098657.47104149,  316454.72816335,\n",
       "       1139569.49385192,  608890.7258752 ,  383547.36082366,\n",
       "        192974.24221249,  726769.93586155,  332159.62079765,\n",
       "       1218916.99063894, 1023185.05443959, 1262755.56667349,\n",
       "        861756.76888145,  494150.65385116,  768410.99594036,\n",
       "        875158.30145605,  559237.3191012 ,  956837.62458274,\n",
       "        652020.30655548,  831374.8360109 , 1012765.24530827,\n",
       "        466884.59990907,  680910.72667914,  514088.86920262,\n",
       "        662520.94620036, 1071216.37619743,  954952.82318436,\n",
       "        799512.79270845, 1049798.06876746,  772416.61723192,\n",
       "        248532.74889204,  432974.21172417,  826180.2245112 ,\n",
       "        585454.80141857,  689833.58695226,  722985.31703337,\n",
       "        547864.9442226 ,  480298.17911402, 1004826.03485183,\n",
       "        625359.28881724,  834904.19284891, 1053691.15885342,\n",
       "        895743.04047071,  483134.77029035,  629792.3881702 ,\n",
       "        905602.56471848, 1016762.18838515,  836212.94960144,\n",
       "       1046764.09471308,  540710.37712461, 1186922.36419433,\n",
       "        808686.88574392,  918350.67574254,  757868.12201661,\n",
       "        489618.18800724,  738962.44596227,  898427.1925561 ,\n",
       "       1239499.39025906,  315181.88103694,  822209.71932389,\n",
       "       1112427.80735634,  913640.39163644,  490008.79223092,\n",
       "        587747.33556898,  425484.90664827,  350090.52270161,\n",
       "        642164.90254966, 1078477.27572766, 1273445.8889745 ,\n",
       "        936717.8961027 , 2144229.27941374,  820122.79754328,\n",
       "        862867.63603143,  704650.0046676 ,  558596.92188545,\n",
       "        725980.29227991,  795937.7109108 ,  427539.3962711 ,\n",
       "        516956.58165562,  777407.43064947,  628131.00630889,\n",
       "       1034692.582237  ,  750002.41985568,  571135.13487594,\n",
       "        437029.52606934,  719031.55389361,  704368.9672684 ,\n",
       "         40814.40257363,  451584.5243189 ,  416715.3576114 ,\n",
       "        378626.763531  ,  824336.87826096,  926999.09232197,\n",
       "        477058.27123904,  781896.53285634,  768939.31570863,\n",
       "        377482.53199209,  731470.7704643 ,  569842.27229575,\n",
       "       1063957.46904183,  457719.82761766,  357329.52523768,\n",
       "        655383.55446507,  784591.34888694,  550230.51480182,\n",
       "        685328.13693916,  719777.62020704,  509002.52731052,\n",
       "        390615.9847047 ,  491048.73091334,  454138.40611245,\n",
       "        371912.56966982,  785017.53800203,  793306.15471345,\n",
       "        602928.15497976,  951380.81559549,  666170.56333312,\n",
       "        870158.57646785, 1063404.1411852 ,  383931.23107697,\n",
       "        735735.93518539,  630347.18268994,  405237.54521453,\n",
       "        967197.44079262,  729496.69738538,  550674.88951527,\n",
       "        677720.4973696 ,  942975.15866399,  725981.38976957,\n",
       "        880858.5587035 ,  396041.68196465,  476585.07318036,\n",
       "       1031381.41032669,  730503.20426364,  743631.23198683,\n",
       "        722950.48796679,  547662.70306264,  869037.27381188,\n",
       "        977611.69528386,  794494.38940949,  484628.40214099,\n",
       "        434306.49572016, 1003250.41303467,  523853.69653371,\n",
       "        638741.66096865,  289920.12547586,  494691.3371058 ,\n",
       "        727063.94291035,  302657.287643  ,  841365.81556669,\n",
       "        803052.19059659,  271654.48090808, 1037734.07229124,\n",
       "        772272.5445726 ,  872390.32545531,  689589.78133405,\n",
       "        881609.76848684,  280197.98154937, 1002876.1104852 ,\n",
       "        885765.79619014,  504717.06341874,  467964.94448118,\n",
       "        470784.38478889,  281215.30399096, 1270635.43530866,\n",
       "        429862.12762844,  948707.08851871,  559557.76204059,\n",
       "        636176.57264365, 1182699.57346684,  778299.45999804,\n",
       "        968167.12459679,  534718.42906993,  798399.04672305,\n",
       "        754054.13162059,  728289.17301135,  420507.73992663,\n",
       "        494746.9451131 ,  532522.65539145,  985564.55973969,\n",
       "        908894.29368947,  449667.01383937,  495421.74145508,\n",
       "        620813.14414478, 1254092.25591459, 1108878.11183303,\n",
       "       1059596.96521948,  793421.21572896,  621835.31798776,\n",
       "        694722.89490308,  721117.68011917,  326362.67907795,\n",
       "       1168408.6662279 ,  574280.59733368,  618920.25192467,\n",
       "        914172.87442538,  314207.97181868,  839041.24788066,\n",
       "       1132537.79226757,  433031.77733046,  583005.70571708,\n",
       "        625405.24895363,  445313.48123801,  245590.1920288 ,\n",
       "        770994.02611489,  687384.08165155,  764714.04607484,\n",
       "        277950.48724872,  794080.58625136,  584406.70341196,\n",
       "        416969.48616303,  472491.47991533,  873836.43255341,\n",
       "        734657.51939888,  201738.77641359,  751402.78077574,\n",
       "        875835.1964247 ,  549078.29794386,  984769.85489946,\n",
       "        952507.52795808])"
      ]
     },
     "execution_count": 22,
     "metadata": {},
     "output_type": "execute_result"
    }
   ],
   "source": [
    "y_predict_without_outlier"
   ]
  },
  {
   "cell_type": "code",
   "execution_count": 23,
   "id": "7439507d",
   "metadata": {},
   "outputs": [
    {
     "data": {
      "image/png": "[encoded data removed]",
      "text/plain": [
       "<Figure size 700x500 with 1 Axes>"
      ]
     },
     "metadata": {},
     "output_type": "display_data"
    }
   ],
   "source": [
    "fig, ax = plt.subplots(figsize=(7,5))\n",
    "\n",
    "sns.boxplot(x=y_expected_without_outlier);"
   ]
  },
  {
   "cell_type": "markdown",
   "id": "660910f8",
   "metadata": {},
   "source": [
    "### R2 e R2 Ajustado"
   ]
  },
  {
   "cell_type": "code",
   "execution_count": 24,
   "id": "ba1fd727",
   "metadata": {},
   "outputs": [
    {
     "name": "stdout",
     "output_type": "stream",
     "text": [
      "R2 WITH outliers: 0.7249727105572581\n",
      "R2 WITHOUT outliers: 0.6796740676845554\n"
     ]
    }
   ],
   "source": [
    "r2 = r2_score(y_expected, y_predict)\n",
    "r2_without_outliers = r2_score(y_expected_without_outlier, y_predict_without_outlier)\n",
    "\n",
    "print('R2 WITH outliers:', r2)\n",
    "print('R2 WITHOUT outliers:', r2_without_outliers)"
   ]
  },
  {
   "cell_type": "code",
   "execution_count": 31,
   "id": "90e9eddd",
   "metadata": {},
   "outputs": [],
   "source": [
    "# Function to calculate the adjusted R²\n",
    "def calculate_adjusted_r2(y_expected, y_predict, X_train):\n",
    "    from sklearn.metrics import r2_score\n",
    "    n = len(y_expected)  # number of observations\n",
    "    p = X_train.shape[1]  # number of independent variables\n",
    "    r2 = r2_score(y_expected, y_predict)\n",
    "    return 1 - (1 - r2) * (n - 1) / (n - p - 1)"
   ]
  },
  {
   "cell_type": "code",
   "execution_count": 32,
   "id": "7bdfb193",
   "metadata": {},
   "outputs": [
    {
     "name": "stdout",
     "output_type": "stream",
     "text": [
      "Adjusted R² WITH outliers: 0.7089711228078621\n",
      "Adjusted R² WITHOUT outliers: 0.6604063424324986\n"
     ]
    }
   ],
   "source": [
    "# Calling the function correctly\n",
    "adjusted_r2_value = calculate_adjusted_r2(y_expected, y_predict, X_train)\n",
    "adjusted_r2_without_outliers_value = calculate_adjusted_r2(y_expected_without_outlier, y_predict_without_outlier, X_train)\n",
    "\n",
    "print('Adjusted R² WITH outliers:', adjusted_r2_value)\n",
    "print('Adjusted R² WITHOUT outliers:', adjusted_r2_without_outliers_value)"
   ]
  },
  {
   "cell_type": "markdown",
   "id": "1e0ec9d4",
   "metadata": {},
   "source": [
    "### MAE\n",
    "\n",
    "*Mean Absolute Error*\n",
    "\n",
    "*Mean Absolute Error*\n",
    "\n",
    "- Suffers fewer effects from outliers\n",
    "- Uses the absolute value in contrast to `mse`, so it suffers less from the effects of outliers"
   ]
  },
  {
   "cell_type": "code",
   "execution_count": 35,
   "id": "6fb9982f",
   "metadata": {},
   "outputs": [
    {
     "name": "stdout",
     "output_type": "stream",
     "text": [
      "MAE WITH outliers: 97114.80039739984\n",
      "MAE WITHOUT outliers: 84815.30809339904\n"
     ]
    }
   ],
   "source": [
    "mae = mean_absolute_error(y_expected, y_predict)\n",
    "mae_without_outlier = mean_absolute_error(y_expected_without_outlier, y_predict_without_outlier)\n",
    "print('MAE WITH outliers:', mae)\n",
    "print('MAE WITHOUT outliers:', mae_without_outlier)"
   ]
  },
  {
   "cell_type": "code",
   "execution_count": 36,
   "id": "d15cffaa",
   "metadata": {},
   "outputs": [
    {
     "data": {
      "text/plain": [
       "(718626.9798630137, 645539.9999999999)"
      ]
     },
     "execution_count": 36,
     "metadata": {},
     "output_type": "execute_result"
    }
   ],
   "source": [
    "# calculando a media do preco da casa\n",
    "y_expected.mean(), y_expected.median()"
   ]
  },
  {
   "cell_type": "markdown",
   "id": "227056ea",
   "metadata": {},
   "source": [
    "### MSE\n",
    "\n",
    "The idea is to calculate the difference between the predicted value and the expected value."
   ]
  },
  {
   "cell_type": "code",
   "execution_count": 38,
   "id": "18f3d549",
   "metadata": {},
   "outputs": [
    {
     "name": "stdout",
     "output_type": "stream",
     "text": [
      "MSE WITH outliers: 28371132646.157375\n",
      "MSE WITHOUT outliers: 18169086786.152065\n"
     ]
    }
   ],
   "source": [
    "mse = mean_squared_error(y_expected, y_predict)\n",
    "mse_without_outliers = mean_squared_error(y_expected_without_outlier, y_predict_without_outlier)\n",
    "\n",
    "print('MSE WITH outliers:', mse)\n",
    "print('MSE WITHOUT outliers:', mse_without_outliers)"
   ]
  },
  {
   "cell_type": "markdown",
   "id": "d2fd472a",
   "metadata": {},
   "source": [
    "###RMSE\n",
    "\n",
    "*Root Mean Squared Error*\n",
    "\n",
    "*Square Root of Mean Error*\n",
    "\n",
    "- Same unit as the original measurement (that's why we took the square root)\n",
    "- Larger errors are more penalized (greatly affected by outliers)"
   ]
  },
  {
   "cell_type": "code",
   "execution_count": 41,
   "id": "54f12668",
   "metadata": {},
   "outputs": [
    {
     "name": "stdout",
     "output_type": "stream",
     "text": [
      "RMSE WITH outliers: 168437.3255729186\n",
      "RMSE WITHOUT outliers: 134792.7549468148\n"
     ]
    }
   ],
   "source": [
    "rmse = mean_squared_error(y_expected, y_predict, squared=False)\n",
    "rmse_withou_outliers = mean_squared_error(y_expected_without_outlier, y_predict_without_outlier, squared=False)\n",
    "\n",
    "print('RMSE WITH outliers:', rmse)\n",
    "print('RMSE WITHOUT outliers:', rmse_withou_outliers)"
   ]
  },
  {
   "cell_type": "markdown",
   "id": "08a99e30",
   "metadata": {},
   "source": [
    "Taking out the outliers, `rmse` improves a lot. It can often happen that we break the regression problem into 2: creating a model for the normal points and another model for outliers."
   ]
  },
  {
   "cell_type": "code",
   "execution_count": 42,
   "id": "8fe0b3fe",
   "metadata": {},
   "outputs": [
    {
     "name": "stdout",
     "output_type": "stream",
     "text": [
      "RMSE COM outliers: 168437.3255729186\n",
      "RMSE SEM outliers: 134792.7549468148\n"
     ]
    },
    {
     "data": {
      "image/png": "[encoded data removed]",
      "text/plain": [
       "<Figure size 1500x600 with 2 Axes>"
      ]
     },
     "metadata": {},
     "output_type": "display_data"
    }
   ],
   "source": [
    "fig, ax = plt.subplots(nrows=1, ncols=2, figsize=(15,6))\n",
    "\n",
    "sns.regplot(x=y_expected, y=y_predict, label='Com Outlier', ax=ax[0], color='red');\n",
    "sns.regplot(x=y_expected_without_outlier, y=y_predict_without_outlier, label='Sem Outlier', ax=ax[1], color='green');\n",
    "ax[0].legend();\n",
    "ax[1].legend();\n",
    "\n",
    "print('RMSE COM outliers:', rmse)\n",
    "print('RMSE SEM outliers:', rmse_withou_outliers)"
   ]
  },
  {
   "cell_type": "markdown",
   "id": "372b827f",
   "metadata": {},
   "source": [
    "### RMSLE\n",
    "\n",
    "*Root Mean Squared Logarithmic Error*\n",
    "\n",
    "*Square Root of Mean Logarithmic Error*\n",
    "\n",
    "- Approximation of percentage error\n",
    "- `RMSE` cares more about the simple difference, while `RMSLE` cares about the relative difference (logs).\n",
    "- It is more robust to outliers"
   ]
  },
  {
   "cell_type": "code",
   "execution_count": 44,
   "id": "8f20f18e",
   "metadata": {},
   "outputs": [
    {
     "name": "stdout",
     "output_type": "stream",
     "text": [
      "RMSE 1: 400.0\n",
      "RMSLE 1: 0.5101598447800129\n"
     ]
    }
   ],
   "source": [
    "print('RMSE 1:', mean_squared_error([1000], [600], squared=False))\n",
    "print('RMSLE 1:', mean_squared_log_error([1000], [600], squared=False))"
   ]
  },
  {
   "cell_type": "code",
   "execution_count": 45,
   "id": "15dc74bd",
   "metadata": {},
   "outputs": [
    {
     "name": "stdout",
     "output_type": "stream",
     "text": [
      "RMSE 2: 400.0\n",
      "RMSLE 2: 0.33690028827931506\n"
     ]
    }
   ],
   "source": [
    "print('RMSE 2:', mean_squared_error([1000], [1400], squared=False))\n",
    "print('RMSLE 2:', mean_squared_log_error([1000], [1401], squared=False))"
   ]
  },
  {
   "cell_type": "code",
   "execution_count": 47,
   "id": "a727214c",
   "metadata": {},
   "outputs": [
    {
     "name": "stdout",
     "output_type": "stream",
     "text": [
      "RMSLE WITH outliers: 0.7639732196200514\n",
      "RMSLE WITHOUT outliers: 0.7740452613797923\n"
     ]
    }
   ],
   "source": [
    "# Ensure no negative values\n",
    "y_expected = np.clip(y_expected, 0, None)\n",
    "y_predict = np.clip(y_predict, 0, None)\n",
    "\n",
    "y_expected_without_outlier = np.clip(y_expected_without_outlier, 0, None)\n",
    "y_predict_without_outlier = np.clip(y_predict_without_outlier, 0, None)\n",
    "\n",
    "# Calculate RMSLE\n",
    "rmsle = mean_squared_log_error(y_expected, y_predict, squared=False)\n",
    "rmsle_without_outlier = mean_squared_log_error(y_expected_without_outlier, y_predict_without_outlier, squared=False)\n",
    "\n",
    "print('RMSLE WITH outliers:', rmsle)\n",
    "print('RMSLE WITHOUT outliers:', rmsle_without_outlier)"
   ]
  },
  {
   "cell_type": "markdown",
   "id": "e19c95d5",
   "metadata": {},
   "source": [
    "### Max Error\n",
    "\n",
    "- The Max Error metric is the worst case error between the expected value and the predicted value.\n",
    "- The best value for this metric is 0."
   ]
  },
  {
   "cell_type": "code",
   "execution_count": 52,
   "id": "0e9e7728",
   "metadata": {},
   "outputs": [
    {
     "name": "stdout",
     "output_type": "stream",
     "text": [
      "Max Error WITH outliers: 1394144.2794137425\n",
      "Max Error WITHOUT outliers: 1394144.2794137425\n"
     ]
    }
   ],
   "source": [
    "maximum_error = max_error(y_expected, y_predict)\n",
    "maximum_error_without_outliers = max_error(y_expected_without_outlier, y_predict_without_outlier)\n",
    "\n",
    "print('Max Error WITH outliers:', maximum_error)\n",
    "print('Max Error WITHOUT outliers:', maximum_error_without_outliers)"
   ]
  },
  {
   "cell_type": "markdown",
   "id": "c92ec735",
   "metadata": {},
   "source": [
    "### MedAE - Median Absolute Error\n",
    "\n",
    "*Median Absolute Error*\n",
    "\n",
    "*Absolute Median Error*"
   ]
  },
  {
   "cell_type": "code",
   "execution_count": 54,
   "id": "ef1267d6",
   "metadata": {},
   "outputs": [
    {
     "name": "stdout",
     "output_type": "stream",
     "text": [
      "MedAE COM outliers: 67783.82253590925\n",
      "MedAE SEM outliers: 65547.3406990692\n"
     ]
    }
   ],
   "source": [
    "medae = median_absolute_error(y_expected, y_predict)\n",
    "medae_without_outlier = median_absolute_error(y_expected_without_outlier, y_predict_without_outlier)\n",
    "\n",
    "print('MedAE WITH outliers:', medae)\n",
    "print('MedAE WITHOUT outliers:', medae_without_outlier)"
   ]
  },
  {
   "cell_type": "markdown",
   "id": "6d6f736a",
   "metadata": {},
   "source": [
    "Half of the absolute errors are below 13267 for the data with outliers and 12155 for the data without outliers."
   ]
  },
  {
   "cell_type": "markdown",
   "id": "19354f0b",
   "metadata": {},
   "source": [
    "### MAPE\n",
    "\n",
    "*Mean Absolute Percent Error*\n",
    "\n",
    "*Mean Absolute Percentage Error*"
   ]
  },
  {
   "cell_type": "code",
   "execution_count": 56,
   "id": "874f4210",
   "metadata": {},
   "outputs": [
    {
     "name": "stdout",
     "output_type": "stream",
     "text": [
      "MAPE WITH Outlier: 0.14589859041390243\n",
      "MAPE WITHOUT Outlier: 0.14292358821622086\n"
     ]
    }
   ],
   "source": [
    "mape = mean_absolute_percentage_error(y_expected, y_predict)\n",
    "mape_without_outlier = mean_absolute_percentage_error(y_expected_without_outlier, y_predict_without_outlier)\n",
    "\n",
    "\n",
    "print('MAPE WITH Outlier:', mape)\n",
    "print('MAPE WITHOUT Outlier:', mape_without_outlier)"
   ]
  }
 ],
 "metadata": {
  "kernelspec": {
   "display_name": "Python 3 (ipykernel)",
   "language": "python",
   "name": "python3"
  },
  "language_info": {
   "codemirror_mode": {
    "name": "ipython",
    "version": 3
   },
   "file_extension": ".py",
   "mimetype": "text/x-python",
   "name": "python",
   "nbconvert_exporter": "python",
   "pygments_lexer": "ipython3",
   "version": "3.9.13"
  }
 },
 "nbformat": 4,
 "nbformat_minor": 5
}
