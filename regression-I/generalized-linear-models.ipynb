{
 "cells": [
  {
   "cell_type": "markdown",
   "id": "cf43f2da",
   "metadata": {},
   "source": [
    "# Generalized Linear Models\n",
    "\n",
    "## Ridge Regression\n",
    "\n",
    "The examples presented in this notebook were adapted from the book **Hands on: Machine Learning with Scikit-Learn & TensorFlow by Aurélien Géron**."
   ]
  },
  {
   "cell_type": "code",
   "execution_count": null,
   "id": "b040091c",
   "metadata": {},
   "outputs": [],
   "source": []
  }
 ],
 "metadata": {
  "kernelspec": {
   "display_name": "Python 3 (ipykernel)",
   "language": "python",
   "name": "python3"
  },
  "language_info": {
   "codemirror_mode": {
    "name": "ipython",
    "version": 3
   },
   "file_extension": ".py",
   "mimetype": "text/x-python",
   "name": "python",
   "nbconvert_exporter": "python",
   "pygments_lexer": "ipython3",
   "version": "3.9.13"
  }
 },
 "nbformat": 4,
 "nbformat_minor": 5
}
